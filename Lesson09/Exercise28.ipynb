{
 "cells": [
  {
   "cell_type": "markdown",
   "metadata": {},
   "source": [
    "##  Import Libraries & Process Data\n"
   ]
  },
  {
   "cell_type": "code",
   "execution_count": 1,
   "metadata": {},
   "outputs": [],
   "source": [
    "import numpy as np\n",
    "import matplotlib.pyplot as plt\n",
    "import pandas as pd"
   ]
  },
  {
   "cell_type": "code",
   "execution_count": 2,
   "metadata": {},
   "outputs": [
    {
     "data": {
      "text/html": [
       "<div>\n",
       "<style scoped>\n",
       "    .dataframe tbody tr th:only-of-type {\n",
       "        vertical-align: middle;\n",
       "    }\n",
       "\n",
       "    .dataframe tbody tr th {\n",
       "        vertical-align: top;\n",
       "    }\n",
       "\n",
       "    .dataframe thead th {\n",
       "        text-align: right;\n",
       "    }\n",
       "</style>\n",
       "<table border=\"1\" class=\"dataframe\">\n",
       "  <thead>\n",
       "    <tr style=\"text-align: right;\">\n",
       "      <th></th>\n",
       "      <th>Date</th>\n",
       "      <th>Open</th>\n",
       "      <th>High</th>\n",
       "      <th>Low</th>\n",
       "      <th>Close</th>\n",
       "      <th>Adj Close</th>\n",
       "      <th>Volume</th>\n",
       "    </tr>\n",
       "  </thead>\n",
       "  <tbody>\n",
       "    <tr>\n",
       "      <th>0</th>\n",
       "      <td>02-01-2014</td>\n",
       "      <td>79.382858</td>\n",
       "      <td>79.575714</td>\n",
       "      <td>78.860001</td>\n",
       "      <td>79.018570</td>\n",
       "      <td>66.964325</td>\n",
       "      <td>58671200</td>\n",
       "    </tr>\n",
       "    <tr>\n",
       "      <th>1</th>\n",
       "      <td>03-01-2014</td>\n",
       "      <td>78.980003</td>\n",
       "      <td>79.099998</td>\n",
       "      <td>77.204285</td>\n",
       "      <td>77.282860</td>\n",
       "      <td>65.493416</td>\n",
       "      <td>98116900</td>\n",
       "    </tr>\n",
       "    <tr>\n",
       "      <th>2</th>\n",
       "      <td>06-01-2014</td>\n",
       "      <td>76.778572</td>\n",
       "      <td>78.114288</td>\n",
       "      <td>76.228569</td>\n",
       "      <td>77.704285</td>\n",
       "      <td>65.850533</td>\n",
       "      <td>103152700</td>\n",
       "    </tr>\n",
       "    <tr>\n",
       "      <th>3</th>\n",
       "      <td>07-01-2014</td>\n",
       "      <td>77.760002</td>\n",
       "      <td>77.994286</td>\n",
       "      <td>76.845711</td>\n",
       "      <td>77.148575</td>\n",
       "      <td>65.379593</td>\n",
       "      <td>79302300</td>\n",
       "    </tr>\n",
       "    <tr>\n",
       "      <th>4</th>\n",
       "      <td>08-01-2014</td>\n",
       "      <td>76.972855</td>\n",
       "      <td>77.937141</td>\n",
       "      <td>76.955711</td>\n",
       "      <td>77.637146</td>\n",
       "      <td>65.793633</td>\n",
       "      <td>64632400</td>\n",
       "    </tr>\n",
       "  </tbody>\n",
       "</table>\n",
       "</div>"
      ],
      "text/plain": [
       "         Date       Open       High        Low      Close  Adj Close  \\\n",
       "0  02-01-2014  79.382858  79.575714  78.860001  79.018570  66.964325   \n",
       "1  03-01-2014  78.980003  79.099998  77.204285  77.282860  65.493416   \n",
       "2  06-01-2014  76.778572  78.114288  76.228569  77.704285  65.850533   \n",
       "3  07-01-2014  77.760002  77.994286  76.845711  77.148575  65.379593   \n",
       "4  08-01-2014  76.972855  77.937141  76.955711  77.637146  65.793633   \n",
       "\n",
       "      Volume  \n",
       "0   58671200  \n",
       "1   98116900  \n",
       "2  103152700  \n",
       "3   79302300  \n",
       "4   64632400  "
      ]
     },
     "execution_count": 2,
     "metadata": {},
     "output_type": "execute_result"
    }
   ],
   "source": [
    "dataset_training = pd.read_csv('AAPL_train.csv')\n",
    "dataset_training.head()\n"
   ]
  },
  {
   "cell_type": "code",
   "execution_count": 3,
   "metadata": {},
   "outputs": [
    {
     "data": {
      "text/plain": [
       "array([[ 79.382858],\n",
       "       [ 78.980003],\n",
       "       [ 76.778572],\n",
       "       ...,\n",
       "       [155.839996],\n",
       "       [157.5     ],\n",
       "       [158.529999]])"
      ]
     },
     "execution_count": 3,
     "metadata": {},
     "output_type": "execute_result"
    }
   ],
   "source": [
    "training_data = dataset_training.iloc[:, 1:2].values\n",
    "training_data"
   ]
  },
  {
   "cell_type": "code",
   "execution_count": 4,
   "metadata": {},
   "outputs": [
    {
     "data": {
      "text/plain": [
       "array([[0.05400437],\n",
       "       [0.05148716],\n",
       "       [0.03773165],\n",
       "       ...,\n",
       "       [0.53174205],\n",
       "       [0.54211448],\n",
       "       [0.54855037]])"
      ]
     },
     "execution_count": 4,
     "metadata": {},
     "output_type": "execute_result"
    }
   ],
   "source": [
    "from sklearn.preprocessing import MinMaxScaler\n",
    "sc = MinMaxScaler(feature_range = (0, 1))\n",
    "training_data_scaled = sc.fit_transform(training_data)\n",
    "\n",
    "training_data_scaled "
   ]
  },
  {
   "cell_type": "markdown",
   "metadata": {},
   "source": [
    "## Create Data Time Stamps & Rehape the Data"
   ]
  },
  {
   "cell_type": "code",
   "execution_count": 5,
   "metadata": {},
   "outputs": [],
   "source": [
    "X_train = []\n",
    "y_train = []\n",
    "for i in range(60, 1258):\n",
    "    X_train.append(training_data_scaled[i-60:i, 0])\n",
    "    y_train.append(training_data_scaled[i, 0])\n",
    "X_train, y_train = np.array(X_train), np.array(y_train)"
   ]
  },
  {
   "cell_type": "code",
   "execution_count": 6,
   "metadata": {},
   "outputs": [
    {
     "data": {
      "text/plain": [
       "array([[[0.05400437],\n",
       "        [0.05148716],\n",
       "        [0.03773165],\n",
       "        ...,\n",
       "        [0.04582785],\n",
       "        [0.04002572],\n",
       "        [0.03850823]],\n",
       "\n",
       "       [[0.05148716],\n",
       "        [0.03773165],\n",
       "        [0.04386406],\n",
       "        ...,\n",
       "        [0.04002572],\n",
       "        [0.03850823],\n",
       "        [0.03932056]],\n",
       "\n",
       "       [[0.03773165],\n",
       "        [0.04386406],\n",
       "        [0.03894562],\n",
       "        ...,\n",
       "        [0.03850823],\n",
       "        [0.03932056],\n",
       "        [0.03800839]],\n",
       "\n",
       "       ...,\n",
       "\n",
       "       [[0.98231691],\n",
       "        [0.97794302],\n",
       "        [0.99543867],\n",
       "        ...,\n",
       "        [0.53811549],\n",
       "        [0.48369155],\n",
       "        [0.48462887]],\n",
       "\n",
       "       [[0.97794302],\n",
       "        [0.99543867],\n",
       "        [1.        ],\n",
       "        ...,\n",
       "        [0.48369155],\n",
       "        [0.48462887],\n",
       "        [0.53174205]],\n",
       "\n",
       "       [[0.99543867],\n",
       "        [1.        ],\n",
       "        [0.98237946],\n",
       "        ...,\n",
       "        [0.48462887],\n",
       "        [0.53174205],\n",
       "        [0.54211448]]])"
      ]
     },
     "execution_count": 6,
     "metadata": {},
     "output_type": "execute_result"
    }
   ],
   "source": [
    "X_train = np.reshape(X_train, (X_train.shape[0], X_train.shape[1], 1))\n",
    "X_train\n",
    "\n"
   ]
  },
  {
   "cell_type": "markdown",
   "metadata": {},
   "source": [
    "## Create & Compile an RNN Architecure "
   ]
  },
  {
   "cell_type": "code",
   "execution_count": 7,
   "metadata": {},
   "outputs": [
    {
     "name": "stderr",
     "output_type": "stream",
     "text": [
      "Using TensorFlow backend.\n"
     ]
    }
   ],
   "source": [
    "from keras.models import Sequential\n",
    "from keras.layers import Dense\n",
    "from keras.layers import LSTM\n",
    "from keras.layers import Dropout\n"
   ]
  },
  {
   "cell_type": "code",
   "execution_count": 8,
   "metadata": {},
   "outputs": [],
   "source": [
    "model = Sequential()"
   ]
  },
  {
   "cell_type": "code",
   "execution_count": 9,
   "metadata": {},
   "outputs": [
    {
     "name": "stdout",
     "output_type": "stream",
     "text": [
      "WARNING:tensorflow:From C:\\Users\\Ritesh\\Anaconda3\\lib\\site-packages\\tensorflow\\python\\framework\\op_def_library.py:263: colocate_with (from tensorflow.python.framework.ops) is deprecated and will be removed in a future version.\n",
      "Instructions for updating:\n",
      "Colocations handled automatically by placer.\n"
     ]
    }
   ],
   "source": [
    "model.add(LSTM(units = 100, return_sequences = True, input_shape = (X_train.shape[1], 1)))\n",
    "\n",
    "\n",
    "# Adding a second LSTM layer and some Dropout regularisation\n",
    "model.add(LSTM(units = 100, return_sequences = True))\n",
    "\n",
    "\n",
    "# Adding a third LSTM layer and some Dropout regularisation\n",
    "model.add(LSTM(units = 100, return_sequences = True))\n",
    "\n",
    "\n",
    "# Adding a fourth LSTM layer and some Dropout regularisation\n",
    "model.add(LSTM(units = 100))\n",
    "\n",
    "\n",
    "# Adding the output layer\n",
    "model.add(Dense(units = 1))"
   ]
  },
  {
   "cell_type": "code",
   "execution_count": 10,
   "metadata": {},
   "outputs": [
    {
     "name": "stdout",
     "output_type": "stream",
     "text": [
      "WARNING:tensorflow:From C:\\Users\\Ritesh\\Anaconda3\\lib\\site-packages\\tensorflow\\python\\ops\\math_ops.py:3066: to_int32 (from tensorflow.python.ops.math_ops) is deprecated and will be removed in a future version.\n",
      "Instructions for updating:\n",
      "Use tf.cast instead.\n",
      "Epoch 1/100\n",
      "1198/1198 [==============================] - 34s 29ms/step - loss: 0.0199\n",
      "Epoch 2/100\n",
      "1198/1198 [==============================] - 20s 17ms/step - loss: 0.0021\n",
      "Epoch 3/100\n",
      "1198/1198 [==============================] - 17s 14ms/step - loss: 0.0017\n",
      "Epoch 4/100\n",
      "1198/1198 [==============================] - 17s 14ms/step - loss: 0.0016\n",
      "Epoch 5/100\n",
      "1198/1198 [==============================] - 19s 16ms/step - loss: 0.0017\n",
      "Epoch 6/100\n",
      "1198/1198 [==============================] - 17s 14ms/step - loss: 0.0016\n",
      "Epoch 7/100\n",
      "1198/1198 [==============================] - 18s 15ms/step - loss: 0.0015\n",
      "Epoch 8/100\n",
      "1198/1198 [==============================] - 18s 15ms/step - loss: 0.0012\n",
      "Epoch 9/100\n",
      "1198/1198 [==============================] - 17s 14ms/step - loss: 0.0010\n",
      "Epoch 10/100\n",
      "1198/1198 [==============================] - 18s 15ms/step - loss: 0.0012\n",
      "Epoch 11/100\n",
      "1198/1198 [==============================] - 19s 16ms/step - loss: 9.8825e-04\n",
      "Epoch 12/100\n",
      "1198/1198 [==============================] - 19s 16ms/step - loss: 9.8451e-04\n",
      "Epoch 13/100\n",
      "1198/1198 [==============================] - 20s 16ms/step - loss: 9.4717e-04\n",
      "Epoch 14/100\n",
      "1198/1198 [==============================] - 19s 16ms/step - loss: 9.6994e-04\n",
      "Epoch 15/100\n",
      "1198/1198 [==============================] - 18s 15ms/step - loss: 8.7893e-04\n",
      "Epoch 16/100\n",
      "1198/1198 [==============================] - 18s 15ms/step - loss: 8.7535e-04\n",
      "Epoch 17/100\n",
      "1198/1198 [==============================] - 19s 16ms/step - loss: 7.4546e-04\n",
      "Epoch 18/100\n",
      "1198/1198 [==============================] - 18s 15ms/step - loss: 7.6909e-04\n",
      "Epoch 19/100\n",
      "1198/1198 [==============================] - 18s 15ms/step - loss: 6.6838e-04\n",
      "Epoch 20/100\n",
      "1198/1198 [==============================] - 19s 16ms/step - loss: 6.1656e-04\n",
      "Epoch 21/100\n",
      "1198/1198 [==============================] - 19s 16ms/step - loss: 6.1970e-04\n",
      "Epoch 22/100\n",
      "1198/1198 [==============================] - 19s 16ms/step - loss: 7.9068e-04\n",
      "Epoch 23/100\n",
      "1198/1198 [==============================] - 19s 15ms/step - loss: 5.6221e-04\n",
      "Epoch 24/100\n",
      "1198/1198 [==============================] - 19s 16ms/step - loss: 5.9711e-04\n",
      "Epoch 25/100\n",
      "1198/1198 [==============================] - 21s 17ms/step - loss: 6.6946e-04\n",
      "Epoch 26/100\n",
      "1198/1198 [==============================] - 21s 17ms/step - loss: 6.2317e-04\n",
      "Epoch 27/100\n",
      "1198/1198 [==============================] - 20s 16ms/step - loss: 5.4746e-04\n",
      "Epoch 28/100\n",
      "1198/1198 [==============================] - 18s 15ms/step - loss: 5.1124e-04\n",
      "Epoch 29/100\n",
      "1198/1198 [==============================] - 18s 15ms/step - loss: 6.1937e-04\n",
      "Epoch 30/100\n",
      "1198/1198 [==============================] - 20s 16ms/step - loss: 4.8914e-04\n",
      "Epoch 31/100\n",
      "1198/1198 [==============================] - 18s 15ms/step - loss: 4.2770e-04\n",
      "Epoch 32/100\n",
      "1198/1198 [==============================] - 19s 16ms/step - loss: 5.1255e-04\n",
      "Epoch 33/100\n",
      "1198/1198 [==============================] - 18s 15ms/step - loss: 4.6444e-04\n",
      "Epoch 34/100\n",
      "1198/1198 [==============================] - 18s 15ms/step - loss: 4.1173e-04\n",
      "Epoch 35/100\n",
      "1198/1198 [==============================] - 19s 16ms/step - loss: 5.1073e-04\n",
      "Epoch 36/100\n",
      "1198/1198 [==============================] - 19s 16ms/step - loss: 3.5823e-04\n",
      "Epoch 37/100\n",
      "1198/1198 [==============================] - 19s 16ms/step - loss: 3.6333e-04\n",
      "Epoch 38/100\n",
      "1198/1198 [==============================] - 18s 15ms/step - loss: 4.5940e-04\n",
      "Epoch 39/100\n",
      "1198/1198 [==============================] - 19s 16ms/step - loss: 3.4262e-04\n",
      "Epoch 40/100\n",
      "1198/1198 [==============================] - 18s 15ms/step - loss: 3.9517e-04\n",
      "Epoch 41/100\n",
      "1198/1198 [==============================] - 19s 16ms/step - loss: 3.3606e-04\n",
      "Epoch 42/100\n",
      "1198/1198 [==============================] - 19s 16ms/step - loss: 3.2010e-04\n",
      "Epoch 43/100\n",
      "1198/1198 [==============================] - 19s 16ms/step - loss: 4.4283e-04\n",
      "Epoch 44/100\n",
      "1198/1198 [==============================] - 19s 16ms/step - loss: 3.7878e-04\n",
      "Epoch 45/100\n",
      "1198/1198 [==============================] - 19s 16ms/step - loss: 2.9100e-04\n",
      "Epoch 46/100\n",
      "1198/1198 [==============================] - 19s 15ms/step - loss: 2.9216e-04\n",
      "Epoch 47/100\n",
      "1198/1198 [==============================] - 19s 16ms/step - loss: 2.8177e-04\n",
      "Epoch 48/100\n",
      "1198/1198 [==============================] - 17s 14ms/step - loss: 3.0461e-04\n",
      "Epoch 49/100\n",
      "1198/1198 [==============================] - 17s 14ms/step - loss: 3.7133e-04\n",
      "Epoch 50/100\n",
      "1198/1198 [==============================] - 17s 14ms/step - loss: 2.7995e-04\n",
      "Epoch 51/100\n",
      "1198/1198 [==============================] - 17s 15ms/step - loss: 2.6928e-04\n",
      "Epoch 52/100\n",
      "1198/1198 [==============================] - 19s 16ms/step - loss: 2.9947e-04\n",
      "Epoch 58/100\n",
      "1198/1198 [==============================] - 18s 15ms/step - loss: 2.6566e-04\n",
      "Epoch 59/100\n",
      "1198/1198 [==============================] - 18s 15ms/step - loss: 3.9935e-04\n",
      "Epoch 60/100\n",
      "1198/1198 [==============================] - 18s 15ms/step - loss: 4.5670e-04\n",
      "Epoch 61/100\n",
      "1198/1198 [==============================] - 18s 15ms/step - loss: 2.6345e-04\n",
      "Epoch 62/100\n",
      "1198/1198 [==============================] - 15s 13ms/step - loss: 2.5801e-04\n",
      "Epoch 63/100\n",
      "1198/1198 [==============================] - 14s 11ms/step - loss: 2.7587e-04\n",
      "Epoch 64/100\n",
      "1198/1198 [==============================] - 13s 11ms/step - loss: 2.4476e-04\n",
      "Epoch 65/100\n",
      "1198/1198 [==============================] - 12s 10ms/step - loss: 2.7693e-04\n",
      "Epoch 66/100\n",
      "1198/1198 [==============================] - 14s 11ms/step - loss: 2.2925e-04\n",
      "Epoch 67/100\n",
      "1198/1198 [==============================] - 12s 10ms/step - loss: 2.6185e-04\n",
      "Epoch 68/100\n",
      "1198/1198 [==============================] - 12s 10ms/step - loss: 2.4238e-04\n",
      "Epoch 69/100\n",
      "1198/1198 [==============================] - 11s 10ms/step - loss: 2.6666e-04\n",
      "Epoch 70/100\n",
      "1198/1198 [==============================] - 12s 10ms/step - loss: 2.9667e-04\n",
      "Epoch 71/100\n",
      "1198/1198 [==============================] - 12s 10ms/step - loss: 2.4626e-04\n",
      "Epoch 72/100\n",
      "1198/1198 [==============================] - 14s 12ms/step - loss: 2.4329e-04\n",
      "Epoch 73/100\n",
      "1198/1198 [==============================] - 14s 12ms/step - loss: 2.5461e-04\n",
      "Epoch 74/100\n",
      "1198/1198 [==============================] - 13s 11ms/step - loss: 3.2473e-04\n",
      "Epoch 75/100\n",
      "1198/1198 [==============================] - 14s 12ms/step - loss: 3.0689e-04\n",
      "Epoch 76/100\n",
      "1198/1198 [==============================] - 12s 10ms/step - loss: 2.3930e-04\n",
      "Epoch 77/100\n",
      "1198/1198 [==============================] - 14s 11ms/step - loss: 2.3990e-04\n",
      "Epoch 78/100\n",
      "1198/1198 [==============================] - 14s 12ms/step - loss: 2.9610e-04\n",
      "Epoch 79/100\n",
      "1198/1198 [==============================] - 13s 11ms/step - loss: 2.3797e-04\n",
      "Epoch 80/100\n",
      "1198/1198 [==============================] - 13s 11ms/step - loss: 2.9361e-04\n",
      "Epoch 81/100\n",
      "1198/1198 [==============================] - 12s 10ms/step - loss: 2.5306e-04\n",
      "Epoch 82/100\n",
      "1198/1198 [==============================] - 12s 10ms/step - loss: 2.5460e-04\n",
      "Epoch 83/100\n",
      "1198/1198 [==============================] - 13s 11ms/step - loss: 2.3662e-04\n",
      "Epoch 84/100\n",
      "1198/1198 [==============================] - 12s 10ms/step - loss: 2.8560e-04\n",
      "Epoch 85/100\n",
      "1198/1198 [==============================] - 11s 10ms/step - loss: 2.6142e-04\n",
      "Epoch 86/100\n",
      "1198/1198 [==============================] - 13s 11ms/step - loss: 2.8440e-04\n",
      "Epoch 87/100\n",
      "1198/1198 [==============================] - 11s 10ms/step - loss: 2.5873e-04\n",
      "Epoch 88/100\n",
      "1198/1198 [==============================] - 11s 9ms/step - loss: 2.5435e-04\n",
      "Epoch 89/100\n",
      "1198/1198 [==============================] - 11s 9ms/step - loss: 2.9306e-04\n",
      "Epoch 90/100\n",
      "1198/1198 [==============================] - 11s 9ms/step - loss: 4.9303e-04\n",
      "Epoch 91/100\n",
      "1198/1198 [==============================] - 11s 9ms/step - loss: 2.4124e-04\n",
      "Epoch 92/100\n",
      "1198/1198 [==============================] - 12s 10ms/step - loss: 2.3890e-04\n",
      "Epoch 93/100\n"
     ]
    },
    {
     "name": "stdout",
     "output_type": "stream",
     "text": [
      "1198/1198 [==============================] - 12s 10ms/step - loss: 2.7892e-04\n",
      "Epoch 94/100\n",
      "1198/1198 [==============================] - 11s 9ms/step - loss: 3.7032e-04\n",
      "Epoch 95/100\n",
      "1198/1198 [==============================] - 11s 9ms/step - loss: 3.0988e-04\n",
      "Epoch 96/100\n",
      "1198/1198 [==============================] - 6s 5ms/step - loss: 2.4053e-04\n",
      "Epoch 97/100\n",
      "1198/1198 [==============================] - 6s 5ms/step - loss: 2.3313e-04\n",
      "Epoch 98/100\n",
      "1198/1198 [==============================] - 7s 6ms/step - loss: 2.2480e-04\n",
      "Epoch 99/100\n",
      "1198/1198 [==============================] - 7s 6ms/step - loss: 2.5412e-04\n",
      "Epoch 100/100\n",
      "1198/1198 [==============================] - 6s 5ms/step - loss: 2.7081e-04\n"
     ]
    },
    {
     "data": {
      "text/plain": [
       "<keras.callbacks.History at 0x2bb01c03c88>"
      ]
     },
     "execution_count": 10,
     "metadata": {},
     "output_type": "execute_result"
    }
   ],
   "source": [
    "# Compiling the RNN\n",
    "model.compile(optimizer = 'adam', loss = 'mean_squared_error')\n",
    "\n",
    "# Fitting the RNN to the Training set\n",
    "model.fit(X_train, y_train, epochs = 100, batch_size = 32)\n",
    "\n"
   ]
  },
  {
   "cell_type": "markdown",
   "metadata": {},
   "source": [
    "## Prepare the Test Data , Concatenate Test &  Train Datasets\n"
   ]
  },
  {
   "cell_type": "code",
   "execution_count": 14,
   "metadata": {},
   "outputs": [
    {
     "data": {
      "text/plain": [
       "array([[154.889999],\n",
       "       [143.979996],\n",
       "       [144.529999],\n",
       "       [148.699997],\n",
       "       [149.559998],\n",
       "       [151.289993],\n",
       "       [152.5     ],\n",
       "       [152.880005],\n",
       "       [150.850006],\n",
       "       [150.270004],\n",
       "       [153.080002],\n",
       "       [154.199997],\n",
       "       [157.5     ],\n",
       "       [156.410004],\n",
       "       [154.149994],\n",
       "       [154.110001],\n",
       "       [155.479996],\n",
       "       [155.789993],\n",
       "       [156.25    ],\n",
       "       [163.25    ],\n",
       "       [166.110001]])"
      ]
     },
     "execution_count": 14,
     "metadata": {},
     "output_type": "execute_result"
    }
   ],
   "source": [
    "dataset_testing = pd.read_csv(\"AAPL_test.csv\")\n",
    "actual_stock_price = dataset_testing.iloc[:, 1:2].values\n",
    "actual_stock_price"
   ]
  },
  {
   "cell_type": "code",
   "execution_count": 15,
   "metadata": {},
   "outputs": [],
   "source": [
    "total_data = pd.concat((dataset_training['Open'], dataset_testing['Open']), axis = 0)\n",
    "inputs = total_data[len(total_data) - len(dataset_testing) - 60:].values\n",
    "inputs = inputs.reshape(-1,1)\n",
    "inputs = sc.transform(inputs)\n",
    "X_test = []\n",
    "for i in range(60, 81):\n",
    "    X_test.append(inputs[i-60:i, 0])\n",
    "X_test = np.array(X_test)\n",
    "X_test = np.reshape(X_test, (X_test.shape[0], X_test.shape[1], 1))\n",
    "predicted_stock_price = model.predict(X_test)\n",
    "predicted_stock_price = sc.inverse_transform(predicted_stock_price)"
   ]
  },
  {
   "cell_type": "markdown",
   "metadata": {},
   "source": [
    "## Visualize the Results\n"
   ]
  },
  {
   "cell_type": "code",
   "execution_count": 16,
   "metadata": {},
   "outputs": [
    {
     "data": {
      "image/png": "[encoded data removed]",
      "text/plain": [
       "<Figure size 432x288 with 1 Axes>"
      ]
     },
     "metadata": {
      "needs_background": "light"
     },
     "output_type": "display_data"
    }
   ],
   "source": [
    "# Visualising the results\n",
    "plt.plot(actual_stock_price, color = 'green', label = 'Real Apple Stock Price')\n",
    "plt.plot(predicted_stock_price, color = 'red', label = 'Predicted Apple Stock Price')\n",
    "plt.title('Predicted Stock Price')\n",
    "plt.xlabel('Time')\n",
    "plt.ylabel('Real Stock Price')\n",
    "plt.legend()\n",
    "plt.show()"
   ]
  }
 ],
 "metadata": {
  "kernelspec": {
   "display_name": "Python 3",
   "language": "python",
   "name": "python3"
  }
 },
 "nbformat": 4,
 "nbformat_minor": 2
}
