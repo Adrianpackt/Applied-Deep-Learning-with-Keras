{
 "cells": [
  {
   "cell_type": "markdown",
   "metadata": {},
   "source": [
    "## Import Libraries & Process Data"
   ]
  },
  {
   "cell_type": "code",
   "execution_count": 1,
   "metadata": {},
   "outputs": [],
   "source": [
    "import numpy as np\n",
    "import matplotlib.pyplot as plt\n",
    "import pandas as pd"
   ]
  },
  {
   "cell_type": "code",
   "execution_count": 2,
   "metadata": {},
   "outputs": [
    {
     "data": {
      "text/html": [
       "<div>\n",
       "<style scoped>\n",
       "    .dataframe tbody tr th:only-of-type {\n",
       "        vertical-align: middle;\n",
       "    }\n",
       "\n",
       "    .dataframe tbody tr th {\n",
       "        vertical-align: top;\n",
       "    }\n",
       "\n",
       "    .dataframe thead th {\n",
       "        text-align: right;\n",
       "    }\n",
       "</style>\n",
       "<table border=\"1\" class=\"dataframe\">\n",
       "  <thead>\n",
       "    <tr style=\"text-align: right;\">\n",
       "      <th></th>\n",
       "      <th>Date</th>\n",
       "      <th>Open</th>\n",
       "      <th>High</th>\n",
       "      <th>Low</th>\n",
       "      <th>Close</th>\n",
       "      <th>Adj Close</th>\n",
       "      <th>Volume</th>\n",
       "    </tr>\n",
       "  </thead>\n",
       "  <tbody>\n",
       "    <tr>\n",
       "      <th>0</th>\n",
       "      <td>02-01-2014</td>\n",
       "      <td>37.349998</td>\n",
       "      <td>37.400002</td>\n",
       "      <td>37.099998</td>\n",
       "      <td>37.160000</td>\n",
       "      <td>32.811550</td>\n",
       "      <td>30632200</td>\n",
       "    </tr>\n",
       "    <tr>\n",
       "      <th>1</th>\n",
       "      <td>03-01-2014</td>\n",
       "      <td>37.200001</td>\n",
       "      <td>37.220001</td>\n",
       "      <td>36.599998</td>\n",
       "      <td>36.910000</td>\n",
       "      <td>32.590809</td>\n",
       "      <td>31134800</td>\n",
       "    </tr>\n",
       "    <tr>\n",
       "      <th>2</th>\n",
       "      <td>06-01-2014</td>\n",
       "      <td>36.849998</td>\n",
       "      <td>36.889999</td>\n",
       "      <td>36.110001</td>\n",
       "      <td>36.130001</td>\n",
       "      <td>31.902086</td>\n",
       "      <td>43603700</td>\n",
       "    </tr>\n",
       "    <tr>\n",
       "      <th>3</th>\n",
       "      <td>07-01-2014</td>\n",
       "      <td>36.330002</td>\n",
       "      <td>36.490002</td>\n",
       "      <td>36.209999</td>\n",
       "      <td>36.410000</td>\n",
       "      <td>32.149307</td>\n",
       "      <td>35802800</td>\n",
       "    </tr>\n",
       "    <tr>\n",
       "      <th>4</th>\n",
       "      <td>08-01-2014</td>\n",
       "      <td>36.000000</td>\n",
       "      <td>36.139999</td>\n",
       "      <td>35.580002</td>\n",
       "      <td>35.759998</td>\n",
       "      <td>31.575382</td>\n",
       "      <td>59971700</td>\n",
       "    </tr>\n",
       "  </tbody>\n",
       "</table>\n",
       "</div>"
      ],
      "text/plain": [
       "         Date       Open       High        Low      Close  Adj Close    Volume\n",
       "0  02-01-2014  37.349998  37.400002  37.099998  37.160000  32.811550  30632200\n",
       "1  03-01-2014  37.200001  37.220001  36.599998  36.910000  32.590809  31134800\n",
       "2  06-01-2014  36.849998  36.889999  36.110001  36.130001  31.902086  43603700\n",
       "3  07-01-2014  36.330002  36.490002  36.209999  36.410000  32.149307  35802800\n",
       "4  08-01-2014  36.000000  36.139999  35.580002  35.759998  31.575382  59971700"
      ]
     },
     "execution_count": 2,
     "metadata": {},
     "output_type": "execute_result"
    }
   ],
   "source": [
    "dataset_training = pd.read_csv('MSFT_train.csv')\n",
    "dataset_training.head()\n"
   ]
  },
  {
   "cell_type": "code",
   "execution_count": 3,
   "metadata": {},
   "outputs": [
    {
     "data": {
      "text/plain": [
       "array([[ 37.349998],\n",
       "       [ 37.200001],\n",
       "       [ 36.849998],\n",
       "       ...,\n",
       "       [ 99.300003],\n",
       "       [102.089996],\n",
       "       [101.290001]])"
      ]
     },
     "execution_count": 3,
     "metadata": {},
     "output_type": "execute_result"
    }
   ],
   "source": [
    "training_data = dataset_training.iloc[:, 1:2].values\n",
    "training_data"
   ]
  },
  {
   "cell_type": "code",
   "execution_count": 4,
   "metadata": {},
   "outputs": [
    {
     "data": {
      "text/plain": [
       "array([[0.03246992],\n",
       "       [0.03061099],\n",
       "       [0.02627337],\n",
       "       ...,\n",
       "       [0.80022313],\n",
       "       [0.83479982],\n",
       "       [0.8248854 ]])"
      ]
     },
     "execution_count": 4,
     "metadata": {},
     "output_type": "execute_result"
    }
   ],
   "source": [
    "from sklearn.preprocessing import MinMaxScaler\n",
    "sc = MinMaxScaler(feature_range = (0, 1))\n",
    "training_data_scaled = sc.fit_transform(training_data)\n",
    "\n",
    "training_data_scaled "
   ]
  },
  {
   "cell_type": "markdown",
   "metadata": {},
   "source": [
    "## Create Data Time Stamps & Rehape the Data"
   ]
  },
  {
   "cell_type": "code",
   "execution_count": 5,
   "metadata": {},
   "outputs": [],
   "source": [
    "X_train = []\n",
    "y_train = []\n",
    "for i in range(60, 1258):\n",
    "    X_train.append(training_data_scaled[i-60:i, 0])\n",
    "    y_train.append(training_data_scaled[i, 0])\n",
    "X_train, y_train = np.array(X_train), np.array(y_train)"
   ]
  },
  {
   "cell_type": "code",
   "execution_count": 6,
   "metadata": {},
   "outputs": [],
   "source": [
    "X_train = np.reshape(X_train, (X_train.shape[0], X_train.shape[1], 1))\n"
   ]
  },
  {
   "cell_type": "markdown",
   "metadata": {},
   "source": [
    "## Create & Compile an RNN Architecure "
   ]
  },
  {
   "cell_type": "code",
   "execution_count": 7,
   "metadata": {},
   "outputs": [
    {
     "name": "stderr",
     "output_type": "stream",
     "text": [
      "Using TensorFlow backend.\n"
     ]
    }
   ],
   "source": [
    "from keras.models import Sequential\n",
    "from keras.layers import Dense\n",
    "from keras.layers import LSTM\n",
    "from keras.layers import Dropout\n"
   ]
  },
  {
   "cell_type": "code",
   "execution_count": 8,
   "metadata": {},
   "outputs": [],
   "source": [
    "model = Sequential()"
   ]
  },
  {
   "cell_type": "code",
   "execution_count": 9,
   "metadata": {},
   "outputs": [
    {
     "name": "stdout",
     "output_type": "stream",
     "text": [
      "WARNING:tensorflow:From C:\\Users\\Ritesh\\Anaconda3\\lib\\site-packages\\tensorflow\\python\\framework\\op_def_library.py:263: colocate_with (from tensorflow.python.framework.ops) is deprecated and will be removed in a future version.\n",
      "Instructions for updating:\n",
      "Colocations handled automatically by placer.\n",
      "WARNING:tensorflow:From C:\\Users\\Ritesh\\Anaconda3\\lib\\site-packages\\keras\\backend\\tensorflow_backend.py:3445: calling dropout (from tensorflow.python.ops.nn_ops) with keep_prob is deprecated and will be removed in a future version.\n",
      "Instructions for updating:\n",
      "Please use `rate` instead of `keep_prob`. Rate should be set to `rate = 1 - keep_prob`.\n"
     ]
    }
   ],
   "source": [
    "model.add(LSTM(units = 50, return_sequences = True, input_shape = (X_train.shape[1], 1)))\n",
    "model.add(Dropout(0.2))\n",
    "\n",
    "# Adding a second LSTM layer and some Dropout regularisation\n",
    "model.add(LSTM(units = 50, return_sequences = True))\n",
    "model.add(Dropout(0.2))\n",
    "\n",
    "# Adding a third LSTM layer and some Dropout regularisation\n",
    "model.add(LSTM(units = 50, return_sequences = True))\n",
    "model.add(Dropout(0.2))\n",
    "\n",
    "# Adding a fourth LSTM layer and some Dropout regularisation\n",
    "model.add(LSTM(units = 50))\n",
    "model.add(Dropout(0.2))\n",
    "\n",
    "# Adding the output layer\n",
    "model.add(Dense(units = 1))"
   ]
  },
  {
   "cell_type": "code",
   "execution_count": 10,
   "metadata": {},
   "outputs": [
    {
     "name": "stdout",
     "output_type": "stream",
     "text": [
      "WARNING:tensorflow:From C:\\Users\\Ritesh\\Anaconda3\\lib\\site-packages\\tensorflow\\python\\ops\\math_ops.py:3066: to_int32 (from tensorflow.python.ops.math_ops) is deprecated and will be removed in a future version.\n",
      "Instructions for updating:\n",
      "Use tf.cast instead.\n",
      "Epoch 1/100\n",
      "1198/1198 [==============================] - 18s 15ms/step - loss: 0.0419\n",
      "Epoch 2/100\n",
      "1198/1198 [==============================] - 8s 6ms/step - loss: 0.0039\n",
      "Epoch 3/100\n",
      "1198/1198 [==============================] - 8s 6ms/step - loss: 0.0033\n",
      "Epoch 4/100\n",
      "1198/1198 [==============================] - 9s 7ms/step - loss: 0.0029\n",
      "Epoch 5/100\n",
      "1198/1198 [==============================] - 8s 7ms/step - loss: 0.0030\n",
      "Epoch 6/100\n",
      "1198/1198 [==============================] - 8s 7ms/step - loss: 0.0029\n",
      "Epoch 7/100\n",
      "1198/1198 [==============================] - 9s 7ms/step - loss: 0.0024\n",
      "Epoch 8/100\n",
      "1198/1198 [==============================] - 9s 7ms/step - loss: 0.0026\n",
      "Epoch 9/100\n",
      "1198/1198 [==============================] - 9s 8ms/step - loss: 0.0027\n",
      "Epoch 10/100\n",
      "1198/1198 [==============================] - 8s 7ms/step - loss: 0.0027\n",
      "Epoch 11/100\n",
      "1198/1198 [==============================] - 7s 6ms/step - loss: 0.0025\n",
      "Epoch 12/100\n",
      "1198/1198 [==============================] - 8s 6ms/step - loss: 0.0023\n",
      "Epoch 13/100\n",
      "1198/1198 [==============================] - 7s 6ms/step - loss: 0.0025\n",
      "Epoch 14/100\n",
      "1198/1198 [==============================] - 8s 7ms/step - loss: 0.0026A: 0s - loss: 0.\n",
      "Epoch 15/100\n",
      "1198/1198 [==============================] - 8s 7ms/step - loss: 0.0023\n",
      "Epoch 16/100\n",
      "1198/1198 [==============================] - 7s 6ms/step - loss: 0.0033\n",
      "Epoch 17/100\n",
      "1198/1198 [==============================] - 8s 7ms/step - loss: 0.0021\n",
      "Epoch 18/100\n",
      "1198/1198 [==============================] - 9s 7ms/step - loss: 0.0022\n",
      "Epoch 19/100\n",
      "1198/1198 [==============================] - 7s 6ms/step - loss: 0.0020\n",
      "Epoch 20/100\n",
      "1198/1198 [==============================] - 8s 7ms/step - loss: 0.0024\n",
      "Epoch 21/100\n",
      "1198/1198 [==============================] - 8s 7ms/step - loss: 0.0018\n",
      "Epoch 22/100\n",
      "1198/1198 [==============================] - 8s 7ms/step - loss: 0.0021\n",
      "Epoch 23/100\n",
      "1198/1198 [==============================] - 7s 6ms/step - loss: 0.0020\n",
      "Epoch 24/100\n",
      "1198/1198 [==============================] - 8s 6ms/step - loss: 0.0021\n",
      "Epoch 25/100\n",
      "1198/1198 [==============================] - 8s 6ms/step - loss: 0.0019\n",
      "Epoch 26/100\n",
      "1198/1198 [==============================] - 9s 7ms/step - loss: 0.0018\n",
      "Epoch 27/100\n",
      "1198/1198 [==============================] - 8s 6ms/step - loss: 0.0022\n",
      "Epoch 28/100\n",
      "1198/1198 [==============================] - 7s 6ms/step - loss: 0.0019\n",
      "Epoch 29/100\n",
      "1198/1198 [==============================] - 7s 6ms/step - loss: 0.0017\n",
      "Epoch 30/100\n",
      "1198/1198 [==============================] - 7s 6ms/step - loss: 0.0014\n",
      "Epoch 53/100\n",
      "1198/1198 [==============================] - 7s 6ms/step - loss: 0.0015\n",
      "Epoch 54/100\n",
      "1198/1198 [==============================] - 7s 6ms/step - loss: 0.0016\n",
      "Epoch 55/100\n",
      "1198/1198 [==============================] - 7s 6ms/step - loss: 0.0016\n",
      "Epoch 56/100\n",
      "1198/1198 [==============================] - 6s 5ms/step - loss: 0.0017\n",
      "Epoch 57/100\n",
      "1198/1198 [==============================] - 7s 6ms/step - loss: 0.0016\n",
      "Epoch 58/100\n",
      "1198/1198 [==============================] - 7s 6ms/step - loss: 0.0014\n",
      "Epoch 59/100\n",
      "1198/1198 [==============================] - 7s 6ms/step - loss: 0.0014A: 1s - l\n",
      "Epoch 60/100\n",
      "1198/1198 [==============================] - 7s 6ms/step - loss: 0.0015\n",
      "Epoch 61/100\n",
      "1198/1198 [==============================] - 7s 6ms/step - loss: 0.0014\n",
      "Epoch 62/100\n",
      "1198/1198 [==============================] - 7s 6ms/step - loss: 0.0014\n",
      "Epoch 63/100\n",
      "1198/1198 [==============================] - 7s 6ms/step - loss: 0.0014\n",
      "Epoch 64/100\n",
      "1198/1198 [==============================] - 7s 6ms/step - loss: 0.0015A: 0s - loss: 0\n",
      "Epoch 65/100\n",
      "1198/1198 [==============================] - 7s 6ms/step - loss: 0.0015\n",
      "Epoch 66/100\n",
      "1198/1198 [==============================] - 7s 6ms/step - loss: 0.0012\n",
      "Epoch 67/100\n",
      "1198/1198 [==============================] - 7s 6ms/step - loss: 0.0015\n",
      "Epoch 68/100\n",
      "1198/1198 [==============================] - 7s 6ms/step - loss: 0.0018\n",
      "Epoch 69/100\n",
      "1198/1198 [==============================] - 7s 6ms/step - loss: 0.0012\n",
      "Epoch 70/100\n",
      "1198/1198 [==============================] - 7s 6ms/step - loss: 0.0014\n",
      "Epoch 71/100\n",
      "1198/1198 [==============================] - 7s 6ms/step - loss: 0.0013\n",
      "Epoch 72/100\n",
      "1198/1198 [==============================] - 7s 6ms/step - loss: 0.0013\n",
      "Epoch 73/100\n",
      "1198/1198 [==============================] - 7s 6ms/step - loss: 0.0012\n",
      "Epoch 74/100\n",
      "1198/1198 [==============================] - 7s 6ms/step - loss: 0.0012\n",
      "Epoch 75/100\n",
      "1198/1198 [==============================] - 7s 6ms/step - loss: 0.0013\n",
      "Epoch 76/100\n",
      "1198/1198 [==============================] - 7s 6ms/step - loss: 0.0012\n",
      "Epoch 77/100\n",
      "1198/1198 [==============================] - 7s 5ms/step - loss: 0.0013\n",
      "Epoch 78/100\n",
      "1198/1198 [==============================] - 4s 3ms/step - loss: 0.0011\n",
      "Epoch 79/100\n",
      "1198/1198 [==============================] - 4s 3ms/step - loss: 0.0012\n",
      "Epoch 80/100\n",
      "1198/1198 [==============================] - 4s 3ms/step - loss: 0.0015\n",
      "Epoch 81/100\n",
      "1198/1198 [==============================] - 4s 3ms/step - loss: 0.0013\n",
      "Epoch 82/100\n",
      "1198/1198 [==============================] - 4s 3ms/step - loss: 0.0011\n",
      "Epoch 83/100\n",
      "1198/1198 [==============================] - 4s 3ms/step - loss: 0.0012\n",
      "Epoch 84/100\n",
      "1198/1198 [==============================] - 4s 3ms/step - loss: 0.0013\n",
      "Epoch 85/100\n",
      "1198/1198 [==============================] - 4s 3ms/step - loss: 0.0013\n",
      "Epoch 86/100\n",
      "1198/1198 [==============================] - 4s 3ms/step - loss: 0.0012\n",
      "Epoch 87/100\n",
      "1198/1198 [==============================] - 4s 3ms/step - loss: 0.0012\n",
      "Epoch 88/100\n",
      "1198/1198 [==============================] - 4s 3ms/step - loss: 0.0013\n",
      "Epoch 89/100\n",
      "1198/1198 [==============================] - 4s 3ms/step - loss: 0.0012\n",
      "Epoch 90/100\n",
      "1198/1198 [==============================] - 4s 3ms/step - loss: 0.0011\n",
      "Epoch 91/100\n",
      "1198/1198 [==============================] - 4s 3ms/step - loss: 0.0011\n",
      "Epoch 92/100\n",
      "1198/1198 [==============================] - 4s 3ms/step - loss: 0.0011\n",
      "Epoch 93/100\n",
      "1198/1198 [==============================] - 4s 3ms/step - loss: 0.0010\n",
      "Epoch 94/100\n",
      "1198/1198 [==============================] - 4s 3ms/step - loss: 0.0012A: 1s -\n",
      "Epoch 95/100\n",
      "1198/1198 [==============================] - 3s 3ms/step - loss: 0.0011\n",
      "Epoch 96/100\n",
      "1198/1198 [==============================] - 4s 3ms/step - loss: 0.0011\n",
      "Epoch 97/100\n",
      "1198/1198 [==============================] - 4s 3ms/step - loss: 0.0014\n",
      "Epoch 98/100\n",
      "1198/1198 [==============================] - 3s 3ms/step - loss: 0.0012\n",
      "Epoch 99/100\n",
      "1198/1198 [==============================] - 4s 3ms/step - loss: 9.0272e-04\n",
      "Epoch 100/100\n",
      "1198/1198 [==============================] - 4s 3ms/step - loss: 0.0011\n"
     ]
    },
    {
     "data": {
      "text/plain": [
       "<keras.callbacks.History at 0x2835ecf7198>"
      ]
     },
     "execution_count": 10,
     "metadata": {},
     "output_type": "execute_result"
    }
   ],
   "source": [
    "# Compiling the RNN\n",
    "model.compile(optimizer = 'adam', loss = 'mean_squared_error')\n",
    "\n",
    "# Fitting the RNN to the Training set\n",
    "model.fit(X_train, y_train, epochs = 100, batch_size = 32)\n",
    "\n"
   ]
  },
  {
   "cell_type": "markdown",
   "metadata": {},
   "source": [
    "## Prepare the Test Data , Concatenate Test &  Train Datasets"
   ]
  },
  {
   "cell_type": "code",
   "execution_count": 11,
   "metadata": {},
   "outputs": [
    {
     "data": {
      "text/plain": [
       "array([[ 99.550003],\n",
       "       [100.099998],\n",
       "       [ 99.720001],\n",
       "       [101.639999],\n",
       "       [103.040001],\n",
       "       [103.860001],\n",
       "       [103.220001],\n",
       "       [103.190002],\n",
       "       [101.900002],\n",
       "       [102.510002],\n",
       "       [105.260002],\n",
       "       [105.      ],\n",
       "       [107.459999],\n",
       "       [106.75    ],\n",
       "       [106.120003],\n",
       "       [106.860001],\n",
       "       [107.239998],\n",
       "       [106.260002],\n",
       "       [104.879997],\n",
       "       [104.620003],\n",
       "       [103.800003]])"
      ]
     },
     "execution_count": 11,
     "metadata": {},
     "output_type": "execute_result"
    }
   ],
   "source": [
    "dataset_testing = pd.read_csv('MSFT_test.csv')\n",
    "actual_stock_price = dataset_testing.iloc[:, 1:2].values\n",
    "actual_stock_price"
   ]
  },
  {
   "cell_type": "code",
   "execution_count": 12,
   "metadata": {},
   "outputs": [],
   "source": [
    "total_data = pd.concat((dataset_training['Open'], dataset_testing['Open']), axis = 0)\n",
    "inputs = total_data[len(total_data) - len(dataset_testing) - 60:].values\n",
    "inputs = inputs.reshape(-1,1)\n",
    "inputs = sc.transform(inputs)\n",
    "X_test = []\n",
    "for i in range(60, 81):\n",
    "    X_test.append(inputs[i-60:i, 0])\n",
    "X_test = np.array(X_test)\n",
    "X_test = np.reshape(X_test, (X_test.shape[0], X_test.shape[1], 1))\n",
    "predicted_stock_price = model.predict(X_test)\n",
    "predicted_stock_price = sc.inverse_transform(predicted_stock_price)"
   ]
  },
  {
   "cell_type": "markdown",
   "metadata": {},
   "source": [
    "## Visualize the Results"
   ]
  },
  {
   "cell_type": "code",
   "execution_count": 13,
   "metadata": {},
   "outputs": [
    {
     "data": {
      "image/png": "[encoded data removed]",
      "text/plain": [
       "<Figure size 432x288 with 1 Axes>"
      ]
     },
     "metadata": {
      "needs_background": "light"
     },
     "output_type": "display_data"
    }
   ],
   "source": [
    "# Visualising the results\n",
    "plt.plot(actual_stock_price, color = 'green', label = 'Real Microsoft Stock Price')\n",
    "plt.plot(predicted_stock_price, color = 'red', label = 'Predicted Microsoft Stock Price')\n",
    "plt.title('Predicted Stock Price')\n",
    "plt.xlabel('Time')\n",
    "plt.ylabel('Real Stock Price')\n",
    "plt.legend()\n",
    "plt.show()"
   ]
  }
 ],
 "metadata": {
  "kernelspec": {
   "display_name": "Python 3",
   "language": "python",
   "name": "python3"
  },
  "language_info": {
   "codemirror_mode": {
    "name": "ipython",
    "version": 3
   },
   "file_extension": ".py",
   "mimetype": "text/x-python",
   "name": "python",
   "nbconvert_exporter": "python",
   "pygments_lexer": "ipython3",
   "version": "3.7.3"
  }
 },
 "nbformat": 4,
 "nbformat_minor": 2
}
