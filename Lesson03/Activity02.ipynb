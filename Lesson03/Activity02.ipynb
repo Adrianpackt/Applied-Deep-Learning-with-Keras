{
 "cells": [
  {
   "cell_type": "code",
   "execution_count": 1,
   "metadata": {},
   "outputs": [
    {
     "name": "stdout",
     "output_type": "stream",
     "text": [
      "dict_keys(['target', 'filename', 'feature_names', 'data', 'DESCR', 'target_names'])\n",
      "(569, 30)\n",
      "(569,)\n",
      "List of Feature Names =  ['mean radius' 'mean texture' 'mean perimeter' 'mean area'\n",
      " 'mean smoothness' 'mean compactness' 'mean concavity'\n",
      " 'mean concave points' 'mean symmetry' 'mean fractal dimension'\n",
      " 'radius error' 'texture error' 'perimeter error' 'area error'\n",
      " 'smoothness error' 'compactness error' 'concavity error'\n",
      " 'concave points error' 'symmetry error' 'fractal dimension error'\n",
      " 'worst radius' 'worst texture' 'worst perimeter' 'worst area'\n",
      " 'worst smoothness' 'worst compactness' 'worst concavity'\n",
      " 'worst concave points' 'worst symmetry' 'worst fractal dimension']\n",
      "Output Classes =  ['malignant' 'benign']\n"
     ]
    }
   ],
   "source": [
    "# 1\n",
    "from sklearn.datasets import load_breast_cancer\n",
    "data = load_breast_cancer()\n",
    "print(data.keys())\n",
    "\n",
    "X =  data['data']\n",
    "y = data['target']\n",
    "print(X.shape)\n",
    "print(y.shape) \n",
    "print(\"List of Feature Names = \", data['feature_names'])\n",
    "print(\"Output Classes = \", data['target_names'])"
   ]
  },
  {
   "cell_type": "code",
   "execution_count": 2,
   "metadata": {},
   "outputs": [
    {
     "name": "stdout",
     "output_type": "stream",
     "text": [
      "(398, 30)\n",
      "(398,)\n",
      "(171, 30)\n",
      "(171,)\n",
      "Number of examples in training set =  398\n",
      "Number of examples in test set =  171\n"
     ]
    }
   ],
   "source": [
    "# 2\n",
    "from sklearn.model_selection import train_test_split\n",
    "X_train, X_test, y_train, y_test = train_test_split(X, y, test_size=0.3, random_state=0)\n",
    "print(X_train.shape)\n",
    "print(y_train.shape)\n",
    "print(X_test.shape)\n",
    "print(y_test.shape)\n",
    "print (\"Number of examples in training set = \", X_train.shape[0])\n",
    "print (\"Number of examples in test set = \", X_test.shape[0])"
   ]
  },
  {
   "cell_type": "code",
   "execution_count": 3,
   "metadata": {},
   "outputs": [],
   "source": [
    "# 3\n",
    "from sklearn.preprocessing import StandardScaler\n",
    "scaler = StandardScaler()\n",
    "X_train = scaler.fit_transform(X_train)\n",
    "X_test = scaler.transform(X_test)\n",
    "\n",
    "from sklearn.preprocessing import LabelEncoder\n",
    "labelencoder = LabelEncoder()\n",
    "y = labelencoder.fit_transform(y)"
   ]
  },
  {
   "cell_type": "code",
   "execution_count": 4,
   "metadata": {},
   "outputs": [
    {
     "name": "stderr",
     "output_type": "stream",
     "text": [
      "Using TensorFlow backend.\n"
     ]
    },
    {
     "name": "stdout",
     "output_type": "stream",
     "text": [
      "Train on 398 samples, validate on 171 samples\n",
      "Epoch 1/100\n",
      "398/398 [==============================] - 5s 12ms/step - loss: 0.6807 - acc: 0.6256 - val_loss: 0.6276 - val_acc: 0.6316\n",
      "Epoch 2/100\n",
      "398/398 [==============================] - 0s 907us/step - loss: 0.4513 - acc: 0.6281 - val_loss: 0.3587 - val_acc: 0.9415\n",
      "Epoch 3/100\n",
      "398/398 [==============================] - 0s 897us/step - loss: 0.3206 - acc: 0.9598 - val_loss: 0.3080 - val_acc: 0.9591\n",
      "Epoch 4/100\n",
      "398/398 [==============================] - 0s 915us/step - loss: 0.2662 - acc: 0.9774 - val_loss: 0.2103 - val_acc: 0.9766\n",
      "Epoch 5/100\n",
      "398/398 [==============================] - 0s 895us/step - loss: 0.1354 - acc: 0.9799 - val_loss: 0.1035 - val_acc: 0.9708\n",
      "Epoch 6/100\n",
      "398/398 [==============================] - 0s 907us/step - loss: 0.0830 - acc: 0.9849 - val_loss: 0.0788 - val_acc: 0.9766\n",
      "Epoch 7/100\n",
      "398/398 [==============================] - 0s 917us/step - loss: 0.0706 - acc: 0.9849 - val_loss: 0.0712 - val_acc: 0.9766\n",
      "Epoch 8/100\n",
      "398/398 [==============================] - 0s 930us/step - loss: 0.0647 - acc: 0.9874 - val_loss: 0.0683 - val_acc: 0.9766\n",
      "Epoch 9/100\n",
      "398/398 [==============================] - 0s 895us/step - loss: 0.0607 - acc: 0.9874 - val_loss: 0.0655 - val_acc: 0.9825\n",
      "Epoch 10/100\n",
      "398/398 [==============================] - 0s 905us/step - loss: 0.0578 - acc: 0.9874 - val_loss: 0.0637 - val_acc: 0.9825\n",
      "Epoch 11/100\n",
      "398/398 [==============================] - 0s 900us/step - loss: 0.0563 - acc: 0.9874 - val_loss: 0.0637 - val_acc: 0.9766\n",
      "Epoch 12/100\n",
      "398/398 [==============================] - 0s 900us/step - loss: 0.0539 - acc: 0.9874 - val_loss: 0.0627 - val_acc: 0.9825\n",
      "Epoch 13/100\n",
      "398/398 [==============================] - 0s 897us/step - loss: 0.0534 - acc: 0.9874 - val_loss: 0.0624 - val_acc: 0.9825\n",
      "Epoch 14/100\n",
      "398/398 [==============================] - 0s 905us/step - loss: 0.0501 - acc: 0.9874 - val_loss: 0.0627 - val_acc: 0.9825\n",
      "Epoch 15/100\n",
      "398/398 [==============================] - 0s 902us/step - loss: 0.0474 - acc: 0.9874 - val_loss: 0.0668 - val_acc: 0.9825\n",
      "Epoch 16/100\n",
      "398/398 [==============================] - 0s 910us/step - loss: 0.0449 - acc: 0.9899 - val_loss: 0.0707 - val_acc: 0.9766\n",
      "Epoch 17/100\n",
      "398/398 [==============================] - 0s 905us/step - loss: 0.0432 - acc: 0.9899 - val_loss: 0.0703 - val_acc: 0.9825\n",
      "Epoch 18/100\n",
      "398/398 [==============================] - 0s 892us/step - loss: 0.0417 - acc: 0.9899 - val_loss: 0.0702 - val_acc: 0.9825\n",
      "Epoch 19/100\n",
      "398/398 [==============================] - 0s 907us/step - loss: 0.0418 - acc: 0.9899 - val_loss: 0.0748 - val_acc: 0.9766\n",
      "Epoch 20/100\n",
      "398/398 [==============================] - 0s 895us/step - loss: 0.0403 - acc: 0.9899 - val_loss: 0.0814 - val_acc: 0.9766\n",
      "Epoch 21/100\n",
      "398/398 [==============================] - 0s 907us/step - loss: 0.0386 - acc: 0.9899 - val_loss: 0.0857 - val_acc: 0.9766\n",
      "Epoch 22/100\n",
      "398/398 [==============================] - 0s 905us/step - loss: 0.0375 - acc: 0.9899 - val_loss: 0.0861 - val_acc: 0.9766\n",
      "Epoch 23/100\n",
      "398/398 [==============================] - 0s 905us/step - loss: 0.0373 - acc: 0.9899 - val_loss: 0.0900 - val_acc: 0.9766\n",
      "Epoch 24/100\n",
      "398/398 [==============================] - 0s 915us/step - loss: 0.0362 - acc: 0.9899 - val_loss: 0.0992 - val_acc: 0.9708\n",
      "Epoch 25/100\n",
      "398/398 [==============================] - 0s 915us/step - loss: 0.0346 - acc: 0.9899 - val_loss: 0.1055 - val_acc: 0.9649\n",
      "Epoch 26/100\n",
      "398/398 [==============================] - 0s 910us/step - loss: 0.0336 - acc: 0.9899 - val_loss: 0.1082 - val_acc: 0.9649\n",
      "Epoch 27/100\n",
      "398/398 [==============================] - 0s 890us/step - loss: 0.0333 - acc: 0.9899 - val_loss: 0.1073 - val_acc: 0.9649\n",
      "Epoch 28/100\n",
      "398/398 [==============================] - 0s 900us/step - loss: 0.0318 - acc: 0.9899 - val_loss: 0.1081 - val_acc: 0.9649\n",
      "Epoch 29/100\n",
      "398/398 [==============================] - 0s 912us/step - loss: 0.0320 - acc: 0.9899 - val_loss: 0.1230 - val_acc: 0.9649\n",
      "Epoch 30/100\n",
      "398/398 [==============================] - 0s 932us/step - loss: 0.0302 - acc: 0.9899 - val_loss: 0.1349 - val_acc: 0.9591\n",
      "Epoch 31/100\n",
      "398/398 [==============================] - 0s 972us/step - loss: 0.0293 - acc: 0.9899 - val_loss: 0.1287 - val_acc: 0.9649\n",
      "Epoch 32/100\n",
      "398/398 [==============================] - 0s 897us/step - loss: 0.0291 - acc: 0.9899 - val_loss: 0.1738 - val_acc: 0.9591\n",
      "Epoch 33/100\n",
      "398/398 [==============================] - 0s 902us/step - loss: 0.0261 - acc: 0.9899 - val_loss: 0.1775 - val_acc: 0.9591\n",
      "Epoch 34/100\n",
      "398/398 [==============================] - 0s 902us/step - loss: 0.0247 - acc: 0.9925 - val_loss: 0.1943 - val_acc: 0.9474\n",
      "Epoch 35/100\n",
      "398/398 [==============================] - 0s 897us/step - loss: 0.0217 - acc: 0.9925 - val_loss: 0.2015 - val_acc: 0.9474\n",
      "Epoch 36/100\n",
      "398/398 [==============================] - 0s 895us/step - loss: 0.0210 - acc: 0.9925 - val_loss: 0.2234 - val_acc: 0.9474\n",
      "Epoch 37/100\n",
      "398/398 [==============================] - 0s 890us/step - loss: 0.0202 - acc: 0.9950 - val_loss: 0.2145 - val_acc: 0.9474\n",
      "Epoch 38/100\n",
      "398/398 [==============================] - 0s 902us/step - loss: 0.0188 - acc: 0.9950 - val_loss: 0.2249 - val_acc: 0.9474\n",
      "Epoch 39/100\n",
      "398/398 [==============================] - 0s 900us/step - loss: 0.0183 - acc: 0.9950 - val_loss: 0.2368 - val_acc: 0.9474\n",
      "Epoch 40/100\n",
      "398/398 [==============================] - 0s 900us/step - loss: 0.0166 - acc: 0.9950 - val_loss: 0.2313 - val_acc: 0.9474\n",
      "Epoch 41/100\n",
      "398/398 [==============================] - 0s 897us/step - loss: 0.0174 - acc: 0.9950 - val_loss: 0.2500 - val_acc: 0.9532\n",
      "Epoch 42/100\n",
      "398/398 [==============================] - 0s 907us/step - loss: 0.0143 - acc: 0.9950 - val_loss: 0.2469 - val_acc: 0.9474\n",
      "Epoch 43/100\n",
      "398/398 [==============================] - 0s 910us/step - loss: 0.0143 - acc: 0.9975 - val_loss: 0.2501 - val_acc: 0.9532\n",
      "Epoch 44/100\n",
      "398/398 [==============================] - 0s 897us/step - loss: 0.0133 - acc: 0.9975 - val_loss: 0.2583 - val_acc: 0.9532\n",
      "Epoch 45/100\n",
      "398/398 [==============================] - 0s 930us/step - loss: 0.0132 - acc: 0.9975 - val_loss: 0.2513 - val_acc: 0.9532\n",
      "Epoch 46/100\n",
      "398/398 [==============================] - 0s 907us/step - loss: 0.0122 - acc: 0.9975 - val_loss: 0.2486 - val_acc: 0.9649\n",
      "Epoch 47/100\n",
      "398/398 [==============================] - 0s 998us/step - loss: 0.0131 - acc: 0.9950 - val_loss: 0.2410 - val_acc: 0.9649\n",
      "Epoch 48/100\n",
      "398/398 [==============================] - 0s 937us/step - loss: 0.0118 - acc: 0.9975 - val_loss: 0.2482 - val_acc: 0.9649\n",
      "Epoch 49/100\n",
      "398/398 [==============================] - 0s 910us/step - loss: 0.0113 - acc: 0.9975 - val_loss: 0.2532 - val_acc: 0.9649\n",
      "Epoch 50/100\n",
      "398/398 [==============================] - 0s 900us/step - loss: 0.0105 - acc: 0.9975 - val_loss: 0.2502 - val_acc: 0.9649\n",
      "Epoch 51/100\n",
      "398/398 [==============================] - 0s 915us/step - loss: 0.0104 - acc: 0.9975 - val_loss: 0.2518 - val_acc: 0.9649\n",
      "Epoch 52/100\n",
      "398/398 [==============================] - 0s 935us/step - loss: 0.0109 - acc: 0.9975 - val_loss: 0.2571 - val_acc: 0.9649\n",
      "Epoch 53/100\n",
      "398/398 [==============================] - 0s 922us/step - loss: 0.0097 - acc: 0.9975 - val_loss: 0.2459 - val_acc: 0.9649\n",
      "Epoch 54/100\n",
      "398/398 [==============================] - 0s 920us/step - loss: 0.0096 - acc: 0.9975 - val_loss: 0.2524 - val_acc: 0.9591\n",
      "Epoch 55/100\n",
      "398/398 [==============================] - 0s 925us/step - loss: 0.0098 - acc: 0.9975 - val_loss: 0.2416 - val_acc: 0.9649\n",
      "Epoch 56/100\n",
      "398/398 [==============================] - 0s 900us/step - loss: 0.0105 - acc: 0.9975 - val_loss: 0.2427 - val_acc: 0.9649\n",
      "Epoch 57/100\n",
      "398/398 [==============================] - 0s 917us/step - loss: 0.0071 - acc: 0.9975 - val_loss: 0.2390 - val_acc: 0.9649\n",
      "Epoch 58/100\n",
      "398/398 [==============================] - 0s 917us/step - loss: 0.0064 - acc: 1.0000 - val_loss: 0.2373 - val_acc: 0.9649\n",
      "Epoch 59/100\n",
      "398/398 [==============================] - 0s 917us/step - loss: 0.0058 - acc: 0.9950 - val_loss: 0.2486 - val_acc: 0.9708\n",
      "Epoch 60/100\n",
      "398/398 [==============================] - 0s 915us/step - loss: 0.0055 - acc: 0.9975 - val_loss: 0.2406 - val_acc: 0.9649\n"
     ]
    },
    {
     "name": "stdout",
     "output_type": "stream",
     "text": [
      "Epoch 61/100\n",
      "398/398 [==============================] - 0s 915us/step - loss: 0.0043 - acc: 1.0000 - val_loss: 0.2385 - val_acc: 0.9649\n",
      "Epoch 62/100\n",
      "398/398 [==============================] - 0s 895us/step - loss: 0.0039 - acc: 1.0000 - val_loss: 0.2398 - val_acc: 0.9649\n",
      "Epoch 63/100\n",
      "398/398 [==============================] - 0s 910us/step - loss: 0.0037 - acc: 1.0000 - val_loss: 0.2378 - val_acc: 0.9649\n",
      "Epoch 64/100\n",
      "398/398 [==============================] - 0s 887us/step - loss: 0.0031 - acc: 1.0000 - val_loss: 0.2406 - val_acc: 0.9649\n",
      "Epoch 65/100\n",
      "398/398 [==============================] - 0s 885us/step - loss: 0.0029 - acc: 1.0000 - val_loss: 0.2393 - val_acc: 0.9649\n",
      "Epoch 66/100\n",
      "398/398 [==============================] - 0s 900us/step - loss: 0.0025 - acc: 1.0000 - val_loss: 0.2367 - val_acc: 0.9649\n",
      "Epoch 67/100\n",
      "398/398 [==============================] - 0s 905us/step - loss: 0.0023 - acc: 1.0000 - val_loss: 0.2365 - val_acc: 0.9649\n",
      "Epoch 68/100\n",
      "398/398 [==============================] - 0s 910us/step - loss: 0.0021 - acc: 1.0000 - val_loss: 0.2359 - val_acc: 0.9649\n",
      "Epoch 69/100\n",
      "398/398 [==============================] - 0s 917us/step - loss: 0.0019 - acc: 1.0000 - val_loss: 0.2373 - val_acc: 0.9649\n",
      "Epoch 70/100\n",
      "398/398 [==============================] - 0s 932us/step - loss: 0.0017 - acc: 1.0000 - val_loss: 0.2368 - val_acc: 0.9649\n",
      "Epoch 71/100\n",
      "398/398 [==============================] - 0s 942us/step - loss: 0.0015 - acc: 1.0000 - val_loss: 0.2360 - val_acc: 0.9708\n",
      "Epoch 72/100\n",
      "398/398 [==============================] - 0s 922us/step - loss: 0.0014 - acc: 1.0000 - val_loss: 0.2388 - val_acc: 0.9649\n",
      "Epoch 73/100\n",
      "398/398 [==============================] - 0s 900us/step - loss: 0.0012 - acc: 1.0000 - val_loss: 0.2365 - val_acc: 0.9708\n",
      "Epoch 74/100\n",
      "398/398 [==============================] - 0s 927us/step - loss: 0.0012 - acc: 1.0000 - val_loss: 0.2373 - val_acc: 0.9708\n",
      "Epoch 75/100\n",
      "398/398 [==============================] - 0s 900us/step - loss: 0.0011 - acc: 1.0000 - val_loss: 0.2380 - val_acc: 0.9649\n",
      "Epoch 76/100\n",
      "398/398 [==============================] - 0s 915us/step - loss: 0.0010 - acc: 1.0000 - val_loss: 0.2384 - val_acc: 0.9708\n",
      "Epoch 77/100\n",
      "398/398 [==============================] - 0s 925us/step - loss: 8.9700e-04 - acc: 1.0000 - val_loss: 0.2367 - val_acc: 0.9708\n",
      "Epoch 78/100\n",
      "398/398 [==============================] - 0s 902us/step - loss: 7.8717e-04 - acc: 1.0000 - val_loss: 0.2362 - val_acc: 0.9708\n",
      "Epoch 79/100\n",
      "398/398 [==============================] - 0s 905us/step - loss: 8.1509e-04 - acc: 1.0000 - val_loss: 0.2383 - val_acc: 0.9708\n",
      "Epoch 80/100\n",
      "398/398 [==============================] - 0s 930us/step - loss: 8.0791e-04 - acc: 1.0000 - val_loss: 0.2366 - val_acc: 0.9708\n",
      "Epoch 81/100\n",
      "398/398 [==============================] - 0s 912us/step - loss: 7.0066e-04 - acc: 1.0000 - val_loss: 0.2358 - val_acc: 0.9708\n",
      "Epoch 82/100\n",
      "398/398 [==============================] - 0s 910us/step - loss: 5.9637e-04 - acc: 1.0000 - val_loss: 0.2371 - val_acc: 0.9708\n",
      "Epoch 83/100\n",
      "398/398 [==============================] - 0s 922us/step - loss: 5.6413e-04 - acc: 1.0000 - val_loss: 0.2395 - val_acc: 0.9708\n",
      "Epoch 84/100\n",
      "398/398 [==============================] - 0s 912us/step - loss: 5.4210e-04 - acc: 1.0000 - val_loss: 0.2382 - val_acc: 0.9708\n",
      "Epoch 85/100\n",
      "398/398 [==============================] - 0s 935us/step - loss: 4.9669e-04 - acc: 1.0000 - val_loss: 0.2389 - val_acc: 0.9708\n",
      "Epoch 86/100\n",
      "398/398 [==============================] - 0s 912us/step - loss: 4.6052e-04 - acc: 1.0000 - val_loss: 0.2408 - val_acc: 0.9708\n",
      "Epoch 87/100\n",
      "398/398 [==============================] - 0s 917us/step - loss: 4.3230e-04 - acc: 1.0000 - val_loss: 0.2395 - val_acc: 0.9708\n",
      "Epoch 88/100\n",
      "398/398 [==============================] - 0s 920us/step - loss: 3.9465e-04 - acc: 1.0000 - val_loss: 0.2413 - val_acc: 0.9708\n",
      "Epoch 89/100\n",
      "398/398 [==============================] - 0s 917us/step - loss: 3.6442e-04 - acc: 1.0000 - val_loss: 0.2405 - val_acc: 0.9708\n",
      "Epoch 90/100\n",
      "398/398 [==============================] - 0s 925us/step - loss: 3.4615e-04 - acc: 1.0000 - val_loss: 0.2411 - val_acc: 0.9708\n",
      "Epoch 91/100\n",
      "398/398 [==============================] - 0s 942us/step - loss: 3.1409e-04 - acc: 1.0000 - val_loss: 0.2413 - val_acc: 0.9708\n",
      "Epoch 92/100\n",
      "398/398 [==============================] - 0s 922us/step - loss: 3.0140e-04 - acc: 1.0000 - val_loss: 0.2424 - val_acc: 0.9708\n",
      "Epoch 93/100\n",
      "398/398 [==============================] - 0s 922us/step - loss: 2.8121e-04 - acc: 1.0000 - val_loss: 0.2418 - val_acc: 0.9708\n",
      "Epoch 94/100\n",
      "398/398 [==============================] - 0s 905us/step - loss: 2.7264e-04 - acc: 1.0000 - val_loss: 0.2413 - val_acc: 0.9708\n",
      "Epoch 95/100\n",
      "398/398 [==============================] - 0s 902us/step - loss: 2.5113e-04 - acc: 1.0000 - val_loss: 0.2421 - val_acc: 0.9708\n",
      "Epoch 96/100\n",
      "398/398 [==============================] - 0s 925us/step - loss: 2.2355e-04 - acc: 1.0000 - val_loss: 0.2437 - val_acc: 0.9708\n",
      "Epoch 97/100\n",
      "398/398 [==============================] - 0s 907us/step - loss: 2.3116e-04 - acc: 1.0000 - val_loss: 0.2430 - val_acc: 0.9708\n",
      "Epoch 98/100\n",
      "398/398 [==============================] - 0s 915us/step - loss: 2.1297e-04 - acc: 1.0000 - val_loss: 0.2443 - val_acc: 0.9708\n",
      "Epoch 99/100\n",
      "398/398 [==============================] - 0s 935us/step - loss: 1.9190e-04 - acc: 1.0000 - val_loss: 0.2440 - val_acc: 0.9708\n",
      "Epoch 100/100\n",
      "398/398 [==============================] - 0s 900us/step - loss: 1.8383e-04 - acc: 1.0000 - val_loss: 0.2431 - val_acc: 0.9708\n"
     ]
    }
   ],
   "source": [
    "# 4\n",
    "from keras.models import Sequential\n",
    "from keras.layers import Dense\n",
    "from keras.initializers import RandomUniform\n",
    "\n",
    "# Random initialization method and the seed for initializing model parameters\n",
    "my_init = RandomUniform(minval=-0.05, maxval=0.05, seed=0)\n",
    "\n",
    "classifier = Sequential()\n",
    "classifier.add(Dense(units = 16, kernel_initializer = my_init, activation = 'relu', input_dim = 30))\n",
    "classifier.add(Dense(units = 8, kernel_initializer = my_init, activation = 'relu'))\n",
    "classifier.add(Dense(units = 4, kernel_initializer = my_init, activation = 'relu'))\n",
    "classifier.add(Dense(units = 1, kernel_initializer = my_init, activation = 'sigmoid'))\n",
    "\n",
    "classifier.compile(optimizer = 'adam', loss = 'binary_crossentropy', metrics = ['accuracy'])\n",
    "\n",
    "history=classifier.fit(X_train, y_train, batch_size = 5, epochs = 100, validation_data=(X_test, y_test))\n"
   ]
  },
  {
   "cell_type": "code",
   "execution_count": 6,
   "metadata": {},
   "outputs": [
    {
     "data": {
      "text/plain": [
       "<matplotlib.legend.Legend at 0x150f1630>"
      ]
     },
     "execution_count": 6,
     "metadata": {},
     "output_type": "execute_result"
    },
    {
     "data": {
      "image/png": "[encoded data removed]",
      "text/plain": [
       "<matplotlib.figure.Figure at 0x10cea390>"
      ]
     },
     "metadata": {},
     "output_type": "display_data"
    }
   ],
   "source": [
    "# 5\n",
    "import matplotlib.pyplot as plt \n",
    "import matplotlib\n",
    "\n",
    "%matplotlib inline \n",
    "matplotlib.rcParams['figure.figsize'] = (10.0, 8.0) \n",
    "\n",
    "plt.plot(history.history['loss'])\n",
    "plt.plot(history.history['val_loss'])\n",
    "plt.ylabel('loss')\n",
    "plt.xlabel('epoch')\n",
    "plt.legend(['train loss', 'test loss'], loc='upper right')"
   ]
  },
  {
   "cell_type": "code",
   "execution_count": 7,
   "metadata": {},
   "outputs": [
    {
     "name": "stdout",
     "output_type": "stream",
     "text": [
      "Best Accuracy on training set =  1.0\n",
      "Best Accuray on test set =  0.9824561413965727\n"
     ]
    }
   ],
   "source": [
    "print(\"Best Accuracy on training set = \", max(history.history['acc']))\n",
    "print(\"Best Accuray on test set = \", max(history.history['val_acc']))"
   ]
  }
 ],
 "metadata": {
  "kernelspec": {
   "display_name": "Python 3",
   "language": "python",
   "name": "python3"
  },
  "language_info": {
   "codemirror_mode": {
    "name": "ipython",
    "version": 3
   },
   "file_extension": ".py",
   "mimetype": "text/x-python",
   "name": "python",
   "nbconvert_exporter": "python",
   "pygments_lexer": "ipython3",
   "version": "3.5.5"
  }
 },
 "nbformat": 4,
 "nbformat_minor": 2
}
