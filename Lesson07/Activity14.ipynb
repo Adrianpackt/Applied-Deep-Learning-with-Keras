 "source": [
    "import numpy as np\n",
    "from keras.preprocessing import image\n",
    "new_image = image.load_img('D:/test_image_1.jpg', target_size = (64, 64))\n",
    "new_image = image.img_to_array(new_image)\n",
    "new_image = np.expand_dims(new_image, axis = 0)\n",
    "result = classifier.predict(new_image)\n",
    "training_set.class_indices\n",
    "if result[0][0] == 1:\n",
    "    prediction = 'It is a Dog'\n",
    "else:\n",
    "    prediction = 'It is a Cat'\n",
    "\n",
    "print(prediction)"
   ]
  }
 ]
