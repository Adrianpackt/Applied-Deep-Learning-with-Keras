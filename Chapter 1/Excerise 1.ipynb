{
 "cells": [
  {
   "cell_type": "markdown",
   "metadata": {},
   "source": [
    "# Exercise 1\n",
    "## Data representation and feature engineering"
   ]
  },
  {
   "cell_type": "markdown",
   "metadata": {},
   "source": [
    "In this excercise we want to accurately represent all of the numerical columns.\n",
    "We can also use this section to do some feature engineering.\n",
    "Let's look back to the data description to see where there could be room for improvement"
   ]
  },
  {
   "cell_type": "code",
   "execution_count": 1,
   "metadata": {},
   "outputs": [
    {
     "name": "stdout",
     "output_type": "stream",
     "text": [
      "Citation Request:\n",
      "  This dataset is public available for research. The details are described in [Moro et al., 2011]. \n",
      "  Please include this citation if you plan to use this database:\n",
      "\n",
      "  [Moro et al., 2011] S. Moro, R. Laureano and P. Cortez. Using Data Mining for Bank Direct Marketing: An Application of the CRISP-DM Methodology. \n",
      "  In P. Novais et al. (Eds.), Proceedings of the European Simulation and Modelling Conference - ESM'2011, pp. 117-121, Guimarães, Portugal, October, 2011. EUROSIS.\n",
      "\n",
      "  Available at: [pdf] http://hdl.handle.net/1822/14838\n",
      "                [bib] http://www3.dsi.uminho.pt/pcortez/bib/2011-esm-1.txt\n",
      "\n",
      "1. Title: Bank Marketing\n",
      "\n",
      "2. Sources\n",
      "   Created by: Paulo Cortez (Univ. Minho) and Sérgio Moro (ISCTE-IUL) @ 2012\n",
      "   \n",
      "3. Past Usage:\n",
      "\n",
      "  The full dataset was described and analyzed in:\n",
      "\n",
      "  S. Moro, R. Laureano and P. Cortez. Using Data Mining for Bank Direct Marketing: An Application of the CRISP-DM Methodology. \n",
      "  In P. Novais et al. (Eds.), Proceedings of the European Simulation and Modelling Conference - ESM'2011, pp. 117-121, Guimarães, \n",
      "  Portugal, October, 2011. EUROSIS.\n",
      "\n",
      "4. Relevant Information:\n",
      "\n",
      "   The data is related with direct marketing campaigns of a Portuguese banking institution. \n",
      "   The marketing campaigns were based on phone calls. Often, more than one contact to the same client was required, \n",
      "   in order to access if the product (bank term deposit) would be (or not) subscribed. \n",
      "\n",
      "   There are two datasets: \n",
      "      1) bank-full.csv with all examples, ordered by date (from May 2008 to November 2010).\n",
      "      2) bank.csv with 10% of the examples (4521), randomly selected from bank-full.csv.\n",
      "   The smallest dataset is provided to test more computationally demanding machine learning algorithms (e.g. SVM).\n",
      "\n",
      "   The classification goal is to predict if the client will subscribe a term deposit (variable y).\n",
      "\n",
      "5. Number of Instances: 45211 for bank-full.csv (4521 for bank.csv)\n",
      "\n",
      "6. Number of Attributes: 16 + output attribute.\n",
      "\n",
      "7. Attribute information:\n",
      "\n",
      "   For more information, read [Moro et al., 2011].\n",
      "\n",
      "   Input variables:\n",
      "   # bank client data:\n",
      "   1 - age (numeric)\n",
      "   2 - job : type of job (categorical: \"admin.\",\"unknown\",\"unemployed\",\"management\",\"housemaid\",\"entrepreneur\",\"student\",\n",
      "                                       \"blue-collar\",\"self-employed\",\"retired\",\"technician\",\"services\") \n",
      "   3 - marital : marital status (categorical: \"married\",\"divorced\",\"single\"; note: \"divorced\" means divorced or widowed)\n",
      "   4 - education (categorical: \"unknown\",\"secondary\",\"primary\",\"tertiary\")\n",
      "   5 - default: has credit in default? (binary: \"yes\",\"no\")\n",
      "   6 - balance: average yearly balance, in euros (numeric) \n",
      "   7 - housing: has housing loan? (binary: \"yes\",\"no\")\n",
      "   8 - loan: has personal loan? (binary: \"yes\",\"no\")\n",
      "   # related with the last contact of the current campaign:\n",
      "   9 - contact: contact communication type (categorical: \"unknown\",\"telephone\",\"cellular\") \n",
      "  10 - day: last contact day of the month (numeric)\n",
      "  11 - month: last contact month of year (categorical: \"jan\", \"feb\", \"mar\", ..., \"nov\", \"dec\")\n",
      "  12 - duration: last contact duration, in seconds (numeric)\n",
      "   # other attributes:\n",
      "  13 - campaign: number of contacts performed during this campaign and for this client (numeric, includes last contact)\n",
      "  14 - pdays: number of days that passed by after the client was last contacted from a previous campaign (numeric, -1 means client was not previously contacted)\n",
      "  15 - previous: number of contacts performed before this campaign and for this client (numeric)\n",
      "  16 - poutcome: outcome of the previous marketing campaign (categorical: \"unknown\",\"other\",\"failure\",\"success\")\n",
      "\n",
      "  Output variable (desired target):\n",
      "  17 - y - has the client subscribed a term deposit? (binary: \"yes\",\"no\")\n",
      "\n",
      "8. Missing Attribute Values: None\n",
      "\n"
     ]
    }
   ],
   "source": [
    "f = open('data/bank-names.txt', 'r')\n",
    "file_contents = f.read()\n",
    "print(file_contents)\n",
    "f.close()"
   ]
  },
  {
   "cell_type": "markdown",
   "metadata": {},
   "source": [
    "One column we may want to refactor is the 'pdays' column. Currently, if the customer was not contacted the value is '-1', whereas if they were contacted the number of days are listed. There are two pieces of information endoded in this one columns that we may want to separate. They are:\n",
    "- Whether or not they were contacted\n",
    "- If they were contacted, how long ago was that last contact made\n",
    "\n",
    "When we create columns they should ideally align with hypotheses we create of relationships between the features and the target.\n",
    "One hypothesis may be that if the customer was targeted they may be more likely to subscribe to the product. Given our column we could test this hyposis by converting the 'pdays' column into a binary variable indicating whether they were contacted or not. This can be achieved by looking to see if the value of 'pdays' is '-1', if so we will associate that with a value of 0, otherwise they have been contacted so the value will be 1.\n",
    "A second hypothesis is that the more recently the customer was contacted the greater likelihood will be for them to subscribe. There are many ways to encode this second hypothesis. I recommend encoding the first one, and if we see that this feature has predictive power we can enode the second hypothesis.\n",
    "\n",
    "irst let's load in the data"
   ]
  },
  {
   "cell_type": "code",
   "execution_count": 4,
   "metadata": {
    "collapsed": true
   },
   "outputs": [],
   "source": [
    "import pandas as pd\n",
    "bank_data = pd.read_csv('data/bank_data_feats_a2.csv', index_col=0)"
   ]
  },
  {
   "cell_type": "markdown",
   "metadata": {},
   "source": [
    "Now we can encode whether the customer was contacted"
   ]
  },
  {
   "cell_type": "code",
   "execution_count": 5,
   "metadata": {
    "collapsed": true
   },
   "outputs": [],
   "source": [
    "bank_data['was_contacted'] = bank_data['pdays'].apply(lambda row: 0 if row == -1 else 1)"
   ]
  },
  {
   "cell_type": "markdown",
   "metadata": {},
   "source": [
    "Now the column is encoded and we are ready to test the first hypothesis, we can drop the pdays columns and save the dataset"
   ]
  },
  {
   "cell_type": "code",
   "execution_count": 6,
   "metadata": {
    "collapsed": true
   },
   "outputs": [],
   "source": [
    "bank_data.drop('pdays', axis=1, inplace=True)\n",
    "bank_data.to_csv('data/bank_data_feats_e1.csv')"
   ]
  }
 ],
 "metadata": {
  "kernelspec": {
   "display_name": "Python 3",
   "language": "python",
   "name": "python3"
  },
  "language_info": {
   "codemirror_mode": {
    "name": "ipython",
    "version": 3
   },
   "file_extension": ".py",
   "mimetype": "text/x-python",
   "name": "python",
   "nbconvert_exporter": "python",
   "pygments_lexer": "ipython3",
   "version": "3.6.1"
  }
 },
 "nbformat": 4,
 "nbformat_minor": 2
}
