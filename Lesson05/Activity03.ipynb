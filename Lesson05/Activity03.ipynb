{
 "cells": [
  {
   "cell_type": "code",
   "execution_count": 1,
   "metadata": {},
   "outputs": [],
   "source": [
    "# 1\n",
    "# Load the dataset\n",
    "from sklearn.datasets import load_breast_cancer\n",
    "data = load_breast_cancer()\n",
    "# store data examples in X and their corresponding labels in y\n",
    "X =  data['data']\n",
    "y = data['target']\n",
    "# preprocessing\n",
    "# convert y label from ['malignant', 'benign'] to [1, 0]\n",
    "from sklearn.preprocessing import LabelEncoder\n",
    "labelencoder = LabelEncoder()\n",
    "y = labelencoder.fit_transform(y)\n",
    "# scale input data to have mean 0 and variance 1\n",
    "from sklearn.preprocessing import StandardScaler\n",
    "scaler = StandardScaler()\n",
    "X = scaler.fit_transform(X)"
   ]
  },
  {
   "cell_type": "code",
   "execution_count": 2,
   "metadata": {},
   "outputs": [
    {
     "name": "stderr",
     "output_type": "stream",
     "text": [
      "Using TensorFlow backend.\n"
     ]
    }
   ],
   "source": [
    "# 2\n",
    "# Create the function that returns the keras model\n",
    "from keras.models import Sequential\n",
    "from keras.layers import Dense\n",
    "from keras.regularizers import l2\n",
    "def build_model(lambda_parameter):\n",
    "    model = Sequential()\n",
    "    model.add(Dense(16, input_dim=30, activation='tanh', kernel_regularizer=l2(lambda_parameter)))\n",
    "    model.add(Dense(8, activation='tanh', kernel_regularizer=l2(lambda_parameter)))\n",
    "    model.add(Dense(4, activation='tanh', kernel_regularizer=l2(lambda_parameter)))\n",
    "    model.add(Dense(1, activation='sigmoid'))\n",
    "    model.compile(loss='binary_crossentropy', optimizer='rmsprop', metrics=['accuracy'])\n",
    "    return model"
   ]
  },
  {
   "cell_type": "code",
   "execution_count": 3,
   "metadata": {},
   "outputs": [
    {
     "name": "stderr",
     "output_type": "stream",
     "text": [
      "C:\\Users\\mahlaabdolahnejadbah\\AppData\\Local\\Continuum\\Anaconda3\\envs\\tensorflow-gpu\\lib\\site-packages\\sklearn\\model_selection\\_search.py:841: DeprecationWarning: The default of the `iid` parameter will change from True to False in version 0.22 and will be removed in 0.24. This will change numeric results when test-set sizes are unequal.\n",
      "  DeprecationWarning)\n"
     ]
    }
   ],
   "source": [
    "# 2\n",
    "from keras.wrappers.scikit_learn import KerasClassifier\n",
    "from sklearn.model_selection import RandomizedSearchCV\n",
    "# define a seed for random number generator so the result will be reproducible\n",
    "import numpy\n",
    "seed = 1\n",
    "numpy.random.seed(seed)\n",
    "# create the Keras wrapper with scikit learn\n",
    "model = KerasClassifier(build_fn=build_model, verbose=0)\n",
    "# define all the possible values for each hyperparameter\n",
    "lambda_parameter = [0.001, 0.01, 0.1, 1]\n",
    "epochs = [100, 150, 200]\n",
    "batch_size = [10]\n",
    "# create the dictionary containing all possible values of hyperparameters\n",
    "param_grid = dict(lambda_parameter=lambda_parameter, epochs=epochs, batch_size=batch_size)\n",
    "# perform 5-fold cross validation for 6 randomly selected combinations, store the results\n",
    "grid_seach = RandomizedSearchCV(estimator=model, param_distributions=param_grid, n_iter=6, cv=5)\n",
    "results = grid_seach.fit(X, y)"
   ]
  },
  {
   "cell_type": "code",
   "execution_count": 4,
   "metadata": {
    "scrolled": true
   },
   "outputs": [
    {
     "name": "stdout",
     "output_type": "stream",
     "text": [
      "Best cross validation score= 0.9771528954246133\n",
      "Parameters for Best cross validation score= {'batch_size': 10, 'lambda_parameter': 0.1, 'epochs': 200}\n",
      "Accuracy 0.975395 (std 0.010213) for params {'batch_size': 10, 'lambda_parameter': 0.1, 'epochs': 100}\n",
      "Accuracy 0.627417 (std 0.132766) for params {'batch_size': 10, 'lambda_parameter': 1, 'epochs': 100}\n",
      "Accuracy 0.970123 (std 0.014229) for params {'batch_size': 10, 'lambda_parameter': 0.001, 'epochs': 150}\n",
      "Accuracy 0.977153 (std 0.013110) for params {'batch_size': 10, 'lambda_parameter': 0.1, 'epochs': 200}\n",
      "Accuracy 0.970123 (std 0.008896) for params {'batch_size': 10, 'lambda_parameter': 0.01, 'epochs': 100}\n",
      "Accuracy 0.964851 (std 0.018372) for params {'batch_size': 10, 'lambda_parameter': 0.1, 'epochs': 150}\n"
     ]
    }
   ],
   "source": [
    "# 2\n",
    "# print the results for best cross validation score\n",
    "print(\"Best cross validation score=\", results.best_score_)\n",
    "print(\"Parameters for Best cross validation score=\", results.best_params_)\n",
    "# print the results for all evaluated hyperparameter combinations\n",
    "accuracy_means = results.cv_results_['mean_test_score']\n",
    "accuracy_stds = results.cv_results_['std_test_score']\n",
    "parameters = results.cv_results_['params']\n",
    "for s in range(len(parameters)):\n",
    "    print(\"Accuracy %f (std %f) for params %r\" % (accuracy_means[s], accuracy_stds[s], parameters[s]))"
   ]
  },
  {
   "cell_type": "code",
   "execution_count": 5,
   "metadata": {},
   "outputs": [],
   "source": [
    "# 3\n",
    "from sklearn.model_selection import GridSearchCV\n",
    "# define a seed for random number generator so the result will be reproducible\n",
    "numpy.random.seed(seed)\n",
    "# create the Keras wrapper with scikit learn\n",
    "model = KerasClassifier(build_fn=build_model, verbose=0)\n",
    "# define all the possible values for each hyperparameter\n",
    "lambda_parameter = [0.05, 0.1, 0.15]\n",
    "epochs = [200, 230]\n",
    "batch_size = [10]\n",
    "# create the dictionary containing all possible values of hyperparameters\n",
    "param_grid = dict(lambda_parameter=lambda_parameter, epochs=epochs, batch_size=batch_size)\n",
    "# search the grid, perform 5-fold cross validation for each possible combination, store the results\n",
    "grid_seach = GridSearchCV(estimator=model, param_grid=param_grid, cv=5)\n",
    "results = grid_seach.fit(X, y)"
   ]
  },
  {
   "cell_type": "code",
   "execution_count": 6,
   "metadata": {},
   "outputs": [
    {
     "name": "stdout",
     "output_type": "stream",
     "text": [
      "Best cross validation score= 0.9789103640403815\n",
      "Parameters for Best cross validation score= {'batch_size': 10, 'epochs': 230, 'lambda_parameter': 0.05}\n",
      "Accuracy 0.971880 (std 0.016988) for params {'batch_size': 10, 'epochs': 200, 'lambda_parameter': 0.05}\n",
      "Accuracy 0.975395 (std 0.014014) for params {'batch_size': 10, 'epochs': 200, 'lambda_parameter': 0.1}\n",
      "Accuracy 0.975395 (std 0.011655) for params {'batch_size': 10, 'epochs': 200, 'lambda_parameter': 0.15}\n",
      "Accuracy 0.978910 (std 0.006978) for params {'batch_size': 10, 'epochs': 230, 'lambda_parameter': 0.05}\n",
      "Accuracy 0.973638 (std 0.011075) for params {'batch_size': 10, 'epochs': 230, 'lambda_parameter': 0.1}\n",
      "Accuracy 0.966608 (std 0.021758) for params {'batch_size': 10, 'epochs': 230, 'lambda_parameter': 0.15}\n"
     ]
    }
   ],
   "source": [
    "# 3\n",
    "# print the results for best cross validation score\n",
    "print(\"Best cross validation score=\", results.best_score_)\n",
    "print(\"Parameters for Best cross validation score=\", results.best_params_)\n",
    "# print the results for the entire grid\n",
    "accuracy_means = results.cv_results_['mean_test_score']\n",
    "accuracy_stds = results.cv_results_['std_test_score']\n",
    "parameters = results.cv_results_['params']\n",
    "for s in range(len(parameters)):\n",
    "    print(\"Accuracy %f (std %f) for params %r\" % (accuracy_means[s], accuracy_stds[s], parameters[s]))"
   ]
  },
  {
   "cell_type": "code",
   "execution_count": 9,
   "metadata": {},
   "outputs": [],
   "source": [
    "# 4\n",
    "# Create the function that returns the keras model\n",
    "from keras.layers import Dropout\n",
    "def build_model(rate):\n",
    "    model = Sequential()\n",
    "    model.add(Dense(16, input_dim=30, activation='tanh'))\n",
    "    model.add(Dropout(rate))\n",
    "    model.add(Dense(8, activation='tanh'))\n",
    "    model.add(Dropout(rate))\n",
    "    model.add(Dense(4, activation='tanh'))\n",
    "    model.add(Dropout(rate))\n",
    "    model.add(Dense(1, activation='sigmoid'))\n",
    "    model.compile(loss='binary_crossentropy', optimizer='rmsprop', metrics=['accuracy'])\n",
    "    return model"
   ]
  },
  {
   "cell_type": "code",
   "execution_count": 10,
   "metadata": {},
   "outputs": [],
   "source": [
    "# 4\n",
    "# define a seed for random number generator so the result will be reproducible\n",
    "numpy.random.seed(seed)\n",
    "# create the Keras wrapper with scikit learn\n",
    "model = KerasClassifier(build_fn=build_model, verbose=0)\n",
    "# define all the possible values for each hyperparameter\n",
    "rate = [0, 0.2, 0.4]\n",
    "epochs = [150, 200]\n",
    "batch_size = [10]\n",
    "# create the dictionary containing all possible values of hyperparameters\n",
    "param_grid = dict(rate=rate, epochs=epochs, batch_size=batch_size)\n",
    "# perform 5-fold cross validation for 10 randomly selected combinations, store the results\n",
    "grid_seach = GridSearchCV(estimator=model, param_grid=param_grid, cv=5)\n",
    "results = grid_seach.fit(X, y)"
   ]
  },
  {
   "cell_type": "code",
   "execution_count": 11,
   "metadata": {},
   "outputs": [
    {
     "name": "stdout",
     "output_type": "stream",
     "text": [
      "Best cross validation score= 0.9771528943770799\n",
      "Parameters for Best cross validation score= {'rate': 0.4, 'batch_size': 10, 'epochs': 150}\n",
      "Accuracy 0.973638 (std 0.019218) for params {'rate': 0, 'batch_size': 10, 'epochs': 150}\n",
      "Accuracy 0.968366 (std 0.011887) for params {'rate': 0.2, 'batch_size': 10, 'epochs': 150}\n",
      "Accuracy 0.977153 (std 0.011894) for params {'rate': 0.4, 'batch_size': 10, 'epochs': 150}\n",
      "Accuracy 0.968366 (std 0.013156) for params {'rate': 0, 'batch_size': 10, 'epochs': 200}\n",
      "Accuracy 0.971880 (std 0.008648) for params {'rate': 0.2, 'batch_size': 10, 'epochs': 200}\n",
      "Accuracy 0.977153 (std 0.014238) for params {'rate': 0.4, 'batch_size': 10, 'epochs': 200}\n"
     ]
    }
   ],
   "source": [
    "# 4\n",
    "# print the results for best cross validation score\n",
    "print(\"Best cross validation score=\", results.best_score_)\n",
    "print(\"Parameters for Best cross validation score=\", results.best_params_)\n",
    "# print the results for the entire grid\n",
    "accuracy_means = results.cv_results_['mean_test_score']\n",
    "accuracy_stds = results.cv_results_['std_test_score']\n",
    "parameters = results.cv_results_['params']\n",
    "for s in range(len(parameters)):\n",
    "    print(\"Accuracy %f (std %f) for params %r\" % (accuracy_means[s], accuracy_stds[s], parameters[s]))"
   ]
  },
  {
   "cell_type": "code",
   "execution_count": 12,
   "metadata": {},
   "outputs": [],
   "source": [
    "# 5\n",
    "# define a seed for random number generator so the result will be reproducible\n",
    "numpy.random.seed(seed)\n",
    "# create the Keras wrapper with scikit learn\n",
    "model = KerasClassifier(build_fn=build_model, verbose=0)\n",
    "# define all the possible values for each hyperparameter\n",
    "rate = [0.3, 0.4, 0.5]\n",
    "epochs = [180]\n",
    "batch_size = [10]\n",
    "# create the dictionary containing all possible values of hyperparameters\n",
    "param_grid = dict(rate=rate, epochs=epochs, batch_size=batch_size)\n",
    "# perform 5-fold cross validation for 10 randomly selected combinations, store the results\n",
    "grid_seach = GridSearchCV(estimator=model, param_grid=param_grid, cv=5)\n",
    "results = grid_seach.fit(X, y)"
   ]
  },
  {
   "cell_type": "code",
   "execution_count": 13,
   "metadata": {},
   "outputs": [
    {
     "name": "stdout",
     "output_type": "stream",
     "text": [
      "Best cross validation score= 0.9753954247137784\n",
      "Parameters for Best cross validation score= {'rate': 0.4, 'batch_size': 10, 'epochs': 180}\n",
      "Accuracy 0.968366 (std 0.014247) for params {'rate': 0.3, 'batch_size': 10, 'epochs': 180}\n",
      "Accuracy 0.975395 (std 0.016997) for params {'rate': 0.4, 'batch_size': 10, 'epochs': 180}\n",
      "Accuracy 0.973638 (std 0.014668) for params {'rate': 0.5, 'batch_size': 10, 'epochs': 180}\n"
     ]
    }
   ],
   "source": [
    "# 5\n",
    "# print the results for best cross validation score\n",
    "print(\"Best cross validation score=\", results.best_score_)\n",
    "print(\"Parameters for Best cross validation score=\", results.best_params_)\n",
    "# print the results for the entire grid\n",
    "accuracy_means = results.cv_results_['mean_test_score']\n",
    "accuracy_stds = results.cv_results_['std_test_score']\n",
    "parameters = results.cv_results_['params']\n",
    "for s in range(len(parameters)):\n",
    "    print(\"Accuracy %f (std %f) for params %r\" % (accuracy_means[s], accuracy_stds[s], parameters[s]))"
   ]
  }
 ],
 "metadata": {
  "kernelspec": {
   "display_name": "Python 3",
   "language": "python",
   "name": "python3"
  },
  "language_info": {
   "codemirror_mode": {
    "name": "ipython",
    "version": 3
   },
   "file_extension": ".py",
   "mimetype": "text/x-python",
   "name": "python",
   "nbconvert_exporter": "python",
   "pygments_lexer": "ipython3",
   "version": "3.5.5"
  }
 },
 "nbformat": 4,
 "nbformat_minor": 2
}
