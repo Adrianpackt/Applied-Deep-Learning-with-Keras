{
 "cells": [
  {
   "cell_type": "markdown",
   "metadata": {},
   "source": [
    "##  Run Activity 1 before Buliding the Confusion Matrix"
   ]
  },
  {
   "cell_type": "code",
   "execution_count": 1,
   "metadata": {},
   "outputs": [
    {
     "name": "stderr",
     "output_type": "stream",
     "text": [
      "C:\\Users\\RitZ\\Anaconda3\\lib\\site-packages\\sklearn\\preprocessing\\data.py:625: DataConversionWarning: Data with input dtype uint8, int64 were all converted to float64 by StandardScaler.\n",
      "  return self.partial_fit(X, y)\n",
      "C:\\Users\\RitZ\\Anaconda3\\lib\\site-packages\\sklearn\\base.py:462: DataConversionWarning: Data with input dtype uint8, int64 were all converted to float64 by StandardScaler.\n",
      "  return self.fit(X, **fit_params).transform(X)\n",
      "C:\\Users\\RitZ\\Anaconda3\\lib\\site-packages\\ipykernel_launcher.py:57: DataConversionWarning: Data with input dtype uint8, int64 were all converted to float64 by StandardScaler.\n",
      "Using TensorFlow backend.\n"
     ]
    },
    {
     "name": "stdout",
     "output_type": "stream",
     "text": [
      "Epoch 1/200\n",
      "249/249 [==============================] - 0s 1ms/step - loss: 0.6915 - acc: 0.7550\n",
      "Epoch 2/200\n",
      "249/249 [==============================] - 0s 76us/step - loss: 0.6873 - acc: 0.7912\n",
      "Epoch 3/200\n",
      "249/249 [==============================] - 0s 72us/step - loss: 0.6823 - acc: 0.7912\n",
      "Epoch 4/200\n",
      "249/249 [==============================] - 0s 72us/step - loss: 0.6759 - acc: 0.7912\n",
      "Epoch 5/200\n",
      "249/249 [==============================] - 0s 80us/step - loss: 0.6680 - acc: 0.7912\n",
      "Epoch 6/200\n",
      "249/249 [==============================] - 0s 60us/step - loss: 0.6584 - acc: 0.7912\n",
      "Epoch 7/200\n",
      "249/249 [==============================] - 0s 80us/step - loss: 0.6490 - acc: 0.7912\n",
      "Epoch 8/200\n",
      "249/249 [==============================] - 0s 68us/step - loss: 0.6504 - acc: 0.7912\n",
      "Epoch 9/200\n",
      "249/249 [==============================] - ETA: 0s - loss: 0.6649 - acc: 0.750 - 0s 68us/step - loss: 0.6485 - acc: 0.7912\n",
      "Epoch 10/200\n",
      "249/249 [==============================] - 0s 68us/step - loss: 0.6278 - acc: 0.7912\n",
      "Epoch 11/200\n",
      "249/249 [==============================] - 0s 80us/step - loss: 0.6315 - acc: 0.7912\n",
      "Epoch 12/200\n",
      "249/249 [==============================] - 0s 84us/step - loss: 0.6163 - acc: 0.7912\n",
      "Epoch 13/200\n",
      "249/249 [==============================] - 0s 84us/step - loss: 0.6074 - acc: 0.7912\n",
      "Epoch 14/200\n",
      "249/249 [==============================] - 0s 80us/step - loss: 0.6142 - acc: 0.7912\n",
      "Epoch 15/200\n",
      "249/249 [==============================] - 0s 92us/step - loss: 0.6103 - acc: 0.7912\n",
      "Epoch 16/200\n",
      "249/249 [==============================] - 0s 84us/step - loss: 0.6035 - acc: 0.7912\n",
      "Epoch 17/200\n",
      "249/249 [==============================] - 0s 136us/step - loss: 0.5820 - acc: 0.7912\n",
      "Epoch 18/200\n",
      "249/249 [==============================] - 0s 76us/step - loss: 0.5784 - acc: 0.7912\n",
      "Epoch 19/200\n",
      "249/249 [==============================] - 0s 96us/step - loss: 0.5690 - acc: 0.7912\n",
      "Epoch 20/200\n",
      "249/249 [==============================] - 0s 96us/step - loss: 0.5528 - acc: 0.7912\n",
      "Epoch 21/200\n",
      "249/249 [==============================] - 0s 96us/step - loss: 0.5847 - acc: 0.7912\n",
      "Epoch 22/200\n",
      "249/249 [==============================] - 0s 92us/step - loss: 0.5646 - acc: 0.7912\n",
      "Epoch 23/200\n",
      "249/249 [==============================] - 0s 80us/step - loss: 0.5702 - acc: 0.7912\n",
      "Epoch 24/200\n",
      "249/249 [==============================] - 0s 104us/step - loss: 0.5570 - acc: 0.7912\n",
      "Epoch 25/200\n",
      "249/249 [==============================] - 0s 100us/step - loss: 0.5581 - acc: 0.7912\n",
      "Epoch 26/200\n",
      "249/249 [==============================] - 0s 120us/step - loss: 0.5376 - acc: 0.7912\n",
      "Epoch 27/200\n",
      "249/249 [==============================] - 0s 104us/step - loss: 0.5323 - acc: 0.7912\n",
      "Epoch 28/200\n",
      "249/249 [==============================] - 0s 88us/step - loss: 0.5556 - acc: 0.7912\n",
      "Epoch 29/200\n",
      "249/249 [==============================] - 0s 76us/step - loss: 0.5399 - acc: 0.7912\n",
      "Epoch 30/200\n",
      "249/249 [==============================] - 0s 84us/step - loss: 0.5661 - acc: 0.7912\n",
      "Epoch 31/200\n",
      "249/249 [==============================] - 0s 88us/step - loss: 0.5554 - acc: 0.7912\n",
      "Epoch 32/200\n",
      "249/249 [==============================] - 0s 76us/step - loss: 0.5470 - acc: 0.7912\n",
      "Epoch 33/200\n",
      "249/249 [==============================] - 0s 84us/step - loss: 0.5285 - acc: 0.7912\n",
      "Epoch 34/200\n",
      "249/249 [==============================] - 0s 72us/step - loss: 0.5413 - acc: 0.7912\n",
      "Epoch 35/200\n",
      "249/249 [==============================] - 0s 88us/step - loss: 0.5207 - acc: 0.7912\n",
      "Epoch 36/200\n",
      "249/249 [==============================] - 0s 80us/step - loss: 0.5294 - acc: 0.7912\n",
      "Epoch 37/200\n",
      "249/249 [==============================] - 0s 68us/step - loss: 0.5255 - acc: 0.7912\n",
      "Epoch 38/200\n",
      "249/249 [==============================] - 0s 84us/step - loss: 0.5395 - acc: 0.7912\n",
      "Epoch 39/200\n",
      "249/249 [==============================] - 0s 68us/step - loss: 0.5271 - acc: 0.7912\n",
      "Epoch 40/200\n",
      "249/249 [==============================] - 0s 76us/step - loss: 0.5339 - acc: 0.7912\n",
      "Epoch 41/200\n",
      "249/249 [==============================] - 0s 68us/step - loss: 0.5114 - acc: 0.7912\n",
      "Epoch 42/200\n",
      "249/249 [==============================] - 0s 68us/step - loss: 0.5227 - acc: 0.7912\n",
      "Epoch 43/200\n",
      "249/249 [==============================] - 0s 76us/step - loss: 0.5267 - acc: 0.7912\n",
      "Epoch 44/200\n",
      "249/249 [==============================] - 0s 64us/step - loss: 0.5183 - acc: 0.7912\n",
      "Epoch 45/200\n",
      "249/249 [==============================] - 0s 64us/step - loss: 0.5098 - acc: 0.7912\n",
      "Epoch 46/200\n",
      "249/249 [==============================] - 0s 96us/step - loss: 0.5159 - acc: 0.7912\n",
      "Epoch 47/200\n",
      "249/249 [==============================] - 0s 96us/step - loss: 0.4986 - acc: 0.7912\n",
      "Epoch 48/200\n",
      "249/249 [==============================] - 0s 64us/step - loss: 0.5130 - acc: 0.7912\n",
      "Epoch 49/200\n",
      "249/249 [==============================] - 0s 72us/step - loss: 0.5080 - acc: 0.7912\n",
      "Epoch 50/200\n",
      "249/249 [==============================] - 0s 60us/step - loss: 0.5013 - acc: 0.7912\n",
      "Epoch 51/200\n",
      "249/249 [==============================] - 0s 80us/step - loss: 0.5062 - acc: 0.7912\n",
      "Epoch 52/200\n",
      "249/249 [==============================] - 0s 60us/step - loss: 0.5096 - acc: 0.7912\n",
      "Epoch 53/200\n",
      "249/249 [==============================] - 0s 56us/step - loss: 0.4953 - acc: 0.7912\n",
      "Epoch 54/200\n",
      "249/249 [==============================] - 0s 100us/step - loss: 0.5070 - acc: 0.7912\n",
      "Epoch 55/200\n",
      "249/249 [==============================] - 0s 76us/step - loss: 0.5060 - acc: 0.7912\n",
      "Epoch 56/200\n",
      "249/249 [==============================] - 0s 92us/step - loss: 0.5035 - acc: 0.7912\n",
      "Epoch 57/200\n",
      "249/249 [==============================] - 0s 72us/step - loss: 0.5092 - acc: 0.7912\n",
      "Epoch 58/200\n",
      "249/249 [==============================] - 0s 72us/step - loss: 0.5011 - acc: 0.7912\n",
      "Epoch 59/200\n",
      "249/249 [==============================] - 0s 84us/step - loss: 0.5060 - acc: 0.7912\n",
      "Epoch 60/200\n",
      "249/249 [==============================] - 0s 88us/step - loss: 0.4986 - acc: 0.7912\n",
      "Epoch 61/200\n",
      "249/249 [==============================] - 0s 84us/step - loss: 0.4951 - acc: 0.7912\n",
      "Epoch 62/200\n",
      "249/249 [==============================] - 0s 72us/step - loss: 0.4924 - acc: 0.7912\n",
      "Epoch 63/200\n",
      "249/249 [==============================] - 0s 72us/step - loss: 0.4840 - acc: 0.7912\n",
      "Epoch 64/200\n",
      "249/249 [==============================] - 0s 92us/step - loss: 0.4978 - acc: 0.7912\n",
      "Epoch 65/200\n",
      "249/249 [==============================] - 0s 84us/step - loss: 0.4913 - acc: 0.7912\n",
      "Epoch 66/200\n",
      "249/249 [==============================] - 0s 80us/step - loss: 0.4890 - acc: 0.7912\n",
      "Epoch 67/200\n",
      "249/249 [==============================] - 0s 80us/step - loss: 0.4778 - acc: 0.7912\n",
      "Epoch 68/200\n",
      "249/249 [==============================] - 0s 92us/step - loss: 0.4817 - acc: 0.7912\n",
      "Epoch 69/200\n",
      "249/249 [==============================] - 0s 64us/step - loss: 0.5056 - acc: 0.7912\n",
      "Epoch 70/200\n",
      "249/249 [==============================] - 0s 68us/step - loss: 0.4958 - acc: 0.7912\n",
      "Epoch 71/200\n",
      "249/249 [==============================] - 0s 68us/step - loss: 0.4895 - acc: 0.7912\n",
      "Epoch 72/200\n",
      "249/249 [==============================] - 0s 60us/step - loss: 0.4900 - acc: 0.7912\n",
      "Epoch 73/200\n",
      "249/249 [==============================] - 0s 60us/step - loss: 0.4974 - acc: 0.7912\n",
      "Epoch 74/200\n",
      "249/249 [==============================] - 0s 64us/step - loss: 0.5082 - acc: 0.7912\n",
      "Epoch 75/200\n",
      "249/249 [==============================] - 0s 64us/step - loss: 0.4814 - acc: 0.7912\n",
      "Epoch 76/200\n",
      "249/249 [==============================] - 0s 76us/step - loss: 0.4950 - acc: 0.7912\n",
      "Epoch 77/200\n",
      "249/249 [==============================] - 0s 56us/step - loss: 0.4880 - acc: 0.7912\n",
      "Epoch 78/200\n",
      "249/249 [==============================] - 0s 68us/step - loss: 0.4882 - acc: 0.7912\n",
      "Epoch 79/200\n",
      "249/249 [==============================] - 0s 68us/step - loss: 0.4864 - acc: 0.7912\n",
      "Epoch 80/200\n",
      "249/249 [==============================] - 0s 64us/step - loss: 0.4987 - acc: 0.7912\n",
      "Epoch 81/200\n",
      "249/249 [==============================] - 0s 56us/step - loss: 0.4806 - acc: 0.7912\n",
      "Epoch 82/200\n",
      "249/249 [==============================] - 0s 68us/step - loss: 0.4852 - acc: 0.7912\n",
      "Epoch 83/200\n",
      "249/249 [==============================] - 0s 72us/step - loss: 0.4796 - acc: 0.7912\n",
      "Epoch 84/200\n"
     ]
    },
    {
     "name": "stdout",
     "output_type": "stream",
     "text": [
      "249/249 [==============================] - 0s 56us/step - loss: 0.4746 - acc: 0.7912\n",
      "Epoch 85/200\n",
      "249/249 [==============================] - 0s 60us/step - loss: 0.5042 - acc: 0.7912\n",
      "Epoch 86/200\n",
      "249/249 [==============================] - 0s 64us/step - loss: 0.4844 - acc: 0.7912\n",
      "Epoch 87/200\n",
      "249/249 [==============================] - 0s 72us/step - loss: 0.4586 - acc: 0.7912\n",
      "Epoch 88/200\n",
      "249/249 [==============================] - 0s 60us/step - loss: 0.5031 - acc: 0.7912\n",
      "Epoch 89/200\n",
      "249/249 [==============================] - 0s 64us/step - loss: 0.4757 - acc: 0.7912\n",
      "Epoch 90/200\n",
      "249/249 [==============================] - 0s 72us/step - loss: 0.4660 - acc: 0.7912\n",
      "Epoch 91/200\n",
      "249/249 [==============================] - 0s 72us/step - loss: 0.4898 - acc: 0.7912\n",
      "Epoch 92/200\n",
      "249/249 [==============================] - 0s 60us/step - loss: 0.4850 - acc: 0.7912\n",
      "Epoch 93/200\n",
      "249/249 [==============================] - 0s 56us/step - loss: 0.4864 - acc: 0.7912\n",
      "Epoch 94/200\n",
      "249/249 [==============================] - 0s 68us/step - loss: 0.4598 - acc: 0.7912\n",
      "Epoch 95/200\n",
      "249/249 [==============================] - 0s 72us/step - loss: 0.4675 - acc: 0.7912\n",
      "Epoch 96/200\n",
      "249/249 [==============================] - 0s 56us/step - loss: 0.4836 - acc: 0.7912\n",
      "Epoch 97/200\n",
      "249/249 [==============================] - 0s 56us/step - loss: 0.4615 - acc: 0.7912\n",
      "Epoch 98/200\n",
      "249/249 [==============================] - 0s 68us/step - loss: 0.4817 - acc: 0.7912\n",
      "Epoch 99/200\n",
      "249/249 [==============================] - 0s 72us/step - loss: 0.4869 - acc: 0.7912\n",
      "Epoch 100/200\n",
      "249/249 [==============================] - 0s 60us/step - loss: 0.4888 - acc: 0.7912\n",
      "Epoch 101/200\n",
      "249/249 [==============================] - 0s 60us/step - loss: 0.4773 - acc: 0.7912\n",
      "Epoch 102/200\n",
      "249/249 [==============================] - 0s 56us/step - loss: 0.4736 - acc: 0.7912\n",
      "Epoch 103/200\n",
      "249/249 [==============================] - 0s 56us/step - loss: 0.4637 - acc: 0.7912\n",
      "Epoch 104/200\n",
      "249/249 [==============================] - 0s 64us/step - loss: 0.4836 - acc: 0.7912\n",
      "Epoch 105/200\n",
      "249/249 [==============================] - 0s 56us/step - loss: 0.4684 - acc: 0.7912\n",
      "Epoch 106/200\n",
      "249/249 [==============================] - 0s 76us/step - loss: 0.4632 - acc: 0.7912\n",
      "Epoch 107/200\n",
      "249/249 [==============================] - 0s 124us/step - loss: 0.4727 - acc: 0.7912\n",
      "Epoch 108/200\n",
      "249/249 [==============================] - 0s 68us/step - loss: 0.4626 - acc: 0.7912\n",
      "Epoch 109/200\n",
      "249/249 [==============================] - 0s 76us/step - loss: 0.4665 - acc: 0.7912\n",
      "Epoch 110/200\n",
      "249/249 [==============================] - 0s 76us/step - loss: 0.4596 - acc: 0.7912\n",
      "Epoch 111/200\n",
      "249/249 [==============================] - 0s 76us/step - loss: 0.4654 - acc: 0.7912\n",
      "Epoch 112/200\n",
      "249/249 [==============================] - 0s 100us/step - loss: 0.4517 - acc: 0.7912\n",
      "Epoch 113/200\n",
      "249/249 [==============================] - 0s 84us/step - loss: 0.4587 - acc: 0.7912\n",
      "Epoch 114/200\n",
      "249/249 [==============================] - 0s 84us/step - loss: 0.4672 - acc: 0.7912\n",
      "Epoch 115/200\n",
      "249/249 [==============================] - 0s 84us/step - loss: 0.4766 - acc: 0.7912\n",
      "Epoch 116/200\n",
      "249/249 [==============================] - 0s 76us/step - loss: 0.4686 - acc: 0.7912\n",
      "Epoch 117/200\n",
      "249/249 [==============================] - 0s 88us/step - loss: 0.4616 - acc: 0.7912\n",
      "Epoch 118/200\n",
      "249/249 [==============================] - 0s 76us/step - loss: 0.4680 - acc: 0.7912\n",
      "Epoch 119/200\n",
      "249/249 [==============================] - 0s 72us/step - loss: 0.4531 - acc: 0.7912\n",
      "Epoch 120/200\n",
      "249/249 [==============================] - 0s 88us/step - loss: 0.4522 - acc: 0.7912\n",
      "Epoch 121/200\n",
      "249/249 [==============================] - 0s 80us/step - loss: 0.4646 - acc: 0.7912\n",
      "Epoch 122/200\n",
      "249/249 [==============================] - 0s 84us/step - loss: 0.4698 - acc: 0.7912\n",
      "Epoch 123/200\n",
      "249/249 [==============================] - 0s 84us/step - loss: 0.4519 - acc: 0.7912\n",
      "Epoch 124/200\n",
      "249/249 [==============================] - 0s 88us/step - loss: 0.4775 - acc: 0.7912\n",
      "Epoch 125/200\n",
      "249/249 [==============================] - 0s 88us/step - loss: 0.4555 - acc: 0.7912\n",
      "Epoch 126/200\n",
      "249/249 [==============================] - 0s 88us/step - loss: 0.4557 - acc: 0.7912\n",
      "Epoch 127/200\n",
      "249/249 [==============================] - 0s 96us/step - loss: 0.4659 - acc: 0.7912\n",
      "Epoch 128/200\n",
      "249/249 [==============================] - 0s 80us/step - loss: 0.4577 - acc: 0.7912\n",
      "Epoch 129/200\n",
      "249/249 [==============================] - 0s 88us/step - loss: 0.4346 - acc: 0.7912\n",
      "Epoch 130/200\n",
      "249/249 [==============================] - 0s 80us/step - loss: 0.4373 - acc: 0.7912\n",
      "Epoch 131/200\n",
      "249/249 [==============================] - 0s 88us/step - loss: 0.4460 - acc: 0.7912\n",
      "Epoch 132/200\n",
      "249/249 [==============================] - 0s 80us/step - loss: 0.4747 - acc: 0.7912\n",
      "Epoch 133/200\n",
      "249/249 [==============================] - 0s 84us/step - loss: 0.4509 - acc: 0.7912\n",
      "Epoch 134/200\n",
      "249/249 [==============================] - 0s 76us/step - loss: 0.4441 - acc: 0.7912\n",
      "Epoch 135/200\n",
      "249/249 [==============================] - 0s 80us/step - loss: 0.4733 - acc: 0.7912\n",
      "Epoch 136/200\n",
      "249/249 [==============================] - 0s 84us/step - loss: 0.4541 - acc: 0.7912\n",
      "Epoch 137/200\n",
      "249/249 [==============================] - 0s 80us/step - loss: 0.4460 - acc: 0.7912\n",
      "Epoch 138/200\n",
      "249/249 [==============================] - 0s 64us/step - loss: 0.4699 - acc: 0.7912\n",
      "Epoch 139/200\n",
      "249/249 [==============================] - 0s 72us/step - loss: 0.4838 - acc: 0.7912\n",
      "Epoch 140/200\n",
      "249/249 [==============================] - 0s 68us/step - loss: 0.4375 - acc: 0.7912\n",
      "Epoch 141/200\n",
      "249/249 [==============================] - 0s 80us/step - loss: 0.4373 - acc: 0.7912\n",
      "Epoch 142/200\n",
      "249/249 [==============================] - 0s 68us/step - loss: 0.4482 - acc: 0.7912\n",
      "Epoch 143/200\n",
      "249/249 [==============================] - 0s 88us/step - loss: 0.4713 - acc: 0.7912\n",
      "Epoch 144/200\n",
      "249/249 [==============================] - 0s 76us/step - loss: 0.4621 - acc: 0.7912\n",
      "Epoch 145/200\n",
      "249/249 [==============================] - 0s 68us/step - loss: 0.4476 - acc: 0.7912\n",
      "Epoch 146/200\n",
      "249/249 [==============================] - 0s 72us/step - loss: 0.4335 - acc: 0.7912\n",
      "Epoch 147/200\n",
      "249/249 [==============================] - 0s 72us/step - loss: 0.4492 - acc: 0.7912\n",
      "Epoch 148/200\n",
      "249/249 [==============================] - 0s 88us/step - loss: 0.4575 - acc: 0.7912\n",
      "Epoch 149/200\n",
      "249/249 [==============================] - 0s 84us/step - loss: 0.4611 - acc: 0.7912\n",
      "Epoch 150/200\n",
      "249/249 [==============================] - 0s 80us/step - loss: 0.4295 - acc: 0.7912\n",
      "Epoch 151/200\n",
      "249/249 [==============================] - 0s 84us/step - loss: 0.4411 - acc: 0.7912\n",
      "Epoch 152/200\n",
      "249/249 [==============================] - 0s 80us/step - loss: 0.4453 - acc: 0.7912\n",
      "Epoch 153/200\n",
      "249/249 [==============================] - 0s 76us/step - loss: 0.4371 - acc: 0.7912\n",
      "Epoch 154/200\n",
      "249/249 [==============================] - 0s 96us/step - loss: 0.4381 - acc: 0.7912\n",
      "Epoch 155/200\n",
      "249/249 [==============================] - 0s 84us/step - loss: 0.4422 - acc: 0.7912\n",
      "Epoch 156/200\n",
      "249/249 [==============================] - 0s 72us/step - loss: 0.4212 - acc: 0.7912\n",
      "Epoch 157/200\n",
      "249/249 [==============================] - 0s 92us/step - loss: 0.4410 - acc: 0.7912\n",
      "Epoch 158/200\n",
      "249/249 [==============================] - 0s 80us/step - loss: 0.4261 - acc: 0.7912\n",
      "Epoch 159/200\n",
      "249/249 [==============================] - 0s 88us/step - loss: 0.4556 - acc: 0.7912\n",
      "Epoch 160/200\n",
      "249/249 [==============================] - 0s 84us/step - loss: 0.4341 - acc: 0.7912\n",
      "Epoch 161/200\n",
      "249/249 [==============================] - 0s 92us/step - loss: 0.4402 - acc: 0.7912\n",
      "Epoch 162/200\n",
      "249/249 [==============================] - 0s 96us/step - loss: 0.4264 - acc: 0.7912\n",
      "Epoch 163/200\n",
      "249/249 [==============================] - 0s 76us/step - loss: 0.4294 - acc: 0.7912\n",
      "Epoch 164/200\n",
      "249/249 [==============================] - 0s 76us/step - loss: 0.4601 - acc: 0.7912\n",
      "Epoch 165/200\n",
      "249/249 [==============================] - 0s 76us/step - loss: 0.4430 - acc: 0.7912\n",
      "Epoch 166/200\n",
      "249/249 [==============================] - 0s 80us/step - loss: 0.4415 - acc: 0.7912\n",
      "Epoch 167/200\n"
     ]
    },
    {
     "name": "stdout",
     "output_type": "stream",
     "text": [
      "249/249 [==============================] - 0s 72us/step - loss: 0.4477 - acc: 0.7912\n",
      "Epoch 168/200\n",
      "249/249 [==============================] - 0s 72us/step - loss: 0.4331 - acc: 0.7912\n",
      "Epoch 169/200\n",
      "249/249 [==============================] - 0s 72us/step - loss: 0.4634 - acc: 0.7912\n",
      "Epoch 170/200\n",
      "249/249 [==============================] - 0s 80us/step - loss: 0.4351 - acc: 0.7912\n",
      "Epoch 171/200\n",
      "249/249 [==============================] - 0s 84us/step - loss: 0.4382 - acc: 0.7912\n",
      "Epoch 172/200\n",
      "249/249 [==============================] - 0s 68us/step - loss: 0.4421 - acc: 0.7912\n",
      "Epoch 173/200\n",
      "249/249 [==============================] - 0s 80us/step - loss: 0.4476 - acc: 0.7912\n",
      "Epoch 174/200\n",
      "249/249 [==============================] - 0s 76us/step - loss: 0.4224 - acc: 0.7912\n",
      "Epoch 175/200\n",
      "249/249 [==============================] - 0s 76us/step - loss: 0.4221 - acc: 0.7912\n",
      "Epoch 176/200\n",
      "249/249 [==============================] - 0s 72us/step - loss: 0.4626 - acc: 0.7912\n",
      "Epoch 177/200\n",
      "249/249 [==============================] - 0s 80us/step - loss: 0.4320 - acc: 0.7912\n",
      "Epoch 178/200\n",
      "249/249 [==============================] - 0s 80us/step - loss: 0.4288 - acc: 0.7912\n",
      "Epoch 179/200\n",
      "249/249 [==============================] - 0s 68us/step - loss: 0.4201 - acc: 0.7912\n",
      "Epoch 180/200\n",
      "249/249 [==============================] - 0s 76us/step - loss: 0.4461 - acc: 0.7912\n",
      "Epoch 181/200\n",
      "249/249 [==============================] - 0s 72us/step - loss: 0.4206 - acc: 0.7912\n",
      "Epoch 182/200\n",
      "249/249 [==============================] - 0s 64us/step - loss: 0.4289 - acc: 0.7912\n",
      "Epoch 183/200\n",
      "249/249 [==============================] - 0s 84us/step - loss: 0.4177 - acc: 0.7912\n",
      "Epoch 184/200\n",
      "249/249 [==============================] - 0s 76us/step - loss: 0.4484 - acc: 0.7912\n",
      "Epoch 185/200\n",
      "249/249 [==============================] - 0s 76us/step - loss: 0.4134 - acc: 0.7912\n",
      "Epoch 186/200\n",
      "249/249 [==============================] - 0s 56us/step - loss: 0.4327 - acc: 0.7912\n",
      "Epoch 187/200\n",
      "249/249 [==============================] - 0s 56us/step - loss: 0.4360 - acc: 0.7912\n",
      "Epoch 188/200\n",
      "249/249 [==============================] - 0s 56us/step - loss: 0.4547 - acc: 0.7912\n",
      "Epoch 189/200\n",
      "249/249 [==============================] - 0s 64us/step - loss: 0.4420 - acc: 0.7912\n",
      "Epoch 190/200\n",
      "249/249 [==============================] - 0s 64us/step - loss: 0.4236 - acc: 0.7912\n",
      "Epoch 191/200\n",
      "249/249 [==============================] - 0s 60us/step - loss: 0.4254 - acc: 0.7912\n",
      "Epoch 192/200\n",
      "249/249 [==============================] - 0s 56us/step - loss: 0.4322 - acc: 0.7912\n",
      "Epoch 193/200\n",
      "249/249 [==============================] - 0s 80us/step - loss: 0.4424 - acc: 0.7912\n",
      "Epoch 194/200\n",
      "249/249 [==============================] - 0s 84us/step - loss: 0.4154 - acc: 0.7912\n",
      "Epoch 195/200\n",
      "249/249 [==============================] - 0s 84us/step - loss: 0.4063 - acc: 0.7912\n",
      "Epoch 196/200\n",
      "249/249 [==============================] - 0s 68us/step - loss: 0.4534 - acc: 0.7912\n",
      "Epoch 197/200\n",
      "249/249 [==============================] - 0s 84us/step - loss: 0.4193 - acc: 0.7912\n",
      "Epoch 198/200\n",
      "249/249 [==============================] - 0s 100us/step - loss: 0.4194 - acc: 0.7912\n",
      "Epoch 199/200\n",
      "249/249 [==============================] - 0s 76us/step - loss: 0.4235 - acc: 0.7912\n",
      "Epoch 200/200\n",
      "249/249 [==============================] - 0s 60us/step - loss: 0.4244 - acc: 0.7912\n",
      "0.8425925925925926\n",
      "Null Accuracy: 0    0.842593\n",
      "Name: Readmitted, dtype: float64\n"
     ]
    }
   ],
   "source": [
    "##import the libraries\n",
    "import numpy as np\n",
    "import pandas as pd\n",
    "\n",
    "#Load the Data\n",
    "patient_data=pd.read_csv(\"Health_Data.csv\")\n",
    "\n",
    "##use the head function to get a glimpse data\n",
    "patient_data.head()\n",
    "\n",
    "##Summary of Numerical Data\n",
    "patient_data.describe()\n",
    "    \n",
    "##Summary of Categorical Data\n",
    "patient_data.describe(include=['object'])\n",
    "\n",
    "mydata=pd.read_csv(\"Health_Data.csv\")\n",
    "X=mydata.iloc[:,1:9]\n",
    "y=mydata.iloc[:,9]\n",
    "\n",
    "\n",
    "##New Admission type\n",
    "A_type=pd.get_dummies(X.iloc[:,1],drop_first=True,prefix='Atype')\n",
    "\n",
    "##New Gender \n",
    "New_gender=pd.get_dummies(X.iloc[:,4],drop_first=True,prefix='Gender')\n",
    "\n",
    "##New Pre Existing Disease Variable\n",
    "Pre_exdis=pd.get_dummies(X.iloc[:,2],drop_first=True,prefix='PreExistDis')\n",
    "\n",
    "## Drop the original categorical columns\n",
    "X.drop(['Admission_type','PreExistingDisease','Gender'],axis=1,inplace=True)\n",
    "\n",
    "##Concat the new transformed data to X dataframe\n",
    "X=pd.concat([X,A_type,New_gender,Pre_exdis],axis=1)\n",
    "\n",
    "##Split The Data into Train and Test\n",
    "from sklearn.model_selection import train_test_split\n",
    "xtrain,xtest,ytrain,ytest= train_test_split(X, y, test_size=0.30, random_state=110)\n",
    "\n",
    "#Convert DataFrame to Numpy array\n",
    "\n",
    "x_train=xtrain.values\n",
    "x_test=xtest.values\n",
    "y_train=ytrain.values\n",
    "y_test=ytest.values\n",
    "\n",
    "##Initialize StandardScaler\n",
    "from sklearn.preprocessing import StandardScaler\n",
    "sc=StandardScaler()\n",
    "\n",
    "#Transform the training data\n",
    "xtrain=sc.fit_transform(xtrain)\n",
    "xtrain=pd.DataFrame(xtrain,columns=xtest.columns)\n",
    "\n",
    "#Transform the testing data\n",
    "xtest=sc.transform(xtest)\n",
    "xtest=pd.DataFrame(xtest,columns=xtrain.columns)\n",
    "\n",
    "##Import the relevant Keras libraries\n",
    "from keras.models import Sequential\n",
    "from keras.layers import Dense\n",
    "from keras.layers import Dropout\n",
    "\n",
    "##Initiate the Model with Sequential Class\n",
    "model=Sequential()\n",
    "\n",
    "## Add the 1st dense layer and Dropout Layer\n",
    "model.add(Dense(units=6,activation='relu',kernel_initializer='uniform',input_dim=11))\n",
    "model.add(Dropout(rate=0.3))\n",
    "\n",
    "##Add the 2nd dense Layer and Dropout Layer\n",
    "model.add(Dense(units=6,activation='relu',kernel_initializer='uniform'))\n",
    "model.add(Dropout(rate=0.3))\n",
    "\n",
    "##Add Output Dense Layer\n",
    "model.add(Dense(units=1,activation='sigmoid',kernel_initializer='uniform'))\n",
    "\n",
    "\n",
    "#Compile the Model\n",
    "model.compile(optimizer='adam',loss='binary_crossentropy',metrics=['accuracy'])\n",
    "\n",
    "#Fit the Model\n",
    "model.fit(x_train,y_train,epochs=200,batch_size=20,)\n",
    "\n",
    "#y_pred_class is the predcition & y_pred_prob is probabilities of the prediction\n",
    "\n",
    "y_pred_class=model.predict(x_test)\n",
    "y_pred_prob=model.predict_proba(x_test)\n",
    "\n",
    "##Explore the y_pred_class\n",
    "y_pred_class[:5]\n",
    "\n",
    "##Set threshold all values above threshold are 1 and #below 0\n",
    "y_pred_class=y_pred_class>0.5\n",
    "\n",
    "#Calculate accuracy\n",
    "from sklearn.metrics import accuracy_score\n",
    "print(accuracy_score(y_test,y_pred_class))\n",
    "\n",
    "# Use the value_count function to calculate distinct class values\n",
    "ytest.value_counts()\n",
    "\n",
    "##use head function and divide it by lenght of ytest\n",
    "print(\"Null Accuracy:\",ytest.value_counts().head(1)/len(ytest))\n"
   ]
  },
  {
   "cell_type": "markdown",
   "metadata": {},
   "source": [
    "## Confusion Matrix & Derived Metrics"
   ]
  },
  {
   "cell_type": "code",
   "execution_count": 2,
   "metadata": {},
   "outputs": [
    {
     "name": "stdout",
     "output_type": "stream",
     "text": [
      "[[91  0]\n",
      " [17  0]]\n"
     ]
    }
   ],
   "source": [
    "from sklearn.metrics import confusion_matrix\n",
    "cm=confusion_matrix(y_test,y_pred_class)\n",
    "print(cm)\n"
   ]
  },
  {
   "cell_type": "code",
   "execution_count": 3,
   "metadata": {},
   "outputs": [],
   "source": [
    "##True Negative\n",
    "TN=cm[0,0]\n",
    "##False Negative\n",
    "FN=cm[1,0]\n",
    "##False Positives\n",
    "FP=cm[0,1]\n",
    "##True Positives\n",
    "TP=cm[1,1]\n"
   ]
  },
  {
   "cell_type": "code",
   "execution_count": 4,
   "metadata": {},
   "outputs": [
    {
     "data": {
      "text/plain": [
       "0.0"
      ]
     },
     "execution_count": 4,
     "metadata": {},
     "output_type": "execute_result"
    }
   ],
   "source": [
    "## Calculating Sensitivity\n",
    "Sensitivity=TP/(TP+FN)\n",
    "Sensitivity\n"
   ]
  },
  {
   "cell_type": "code",
   "execution_count": 5,
   "metadata": {},
   "outputs": [
    {
     "data": {
      "text/plain": [
       "1.0"
      ]
     },
     "execution_count": 5,
     "metadata": {},
     "output_type": "execute_result"
    }
   ],
   "source": [
    "##Calculating Specificity\n",
    "Specificity=TN/(TN+FP)\n",
    "Specificity\n"
   ]
  },
  {
   "cell_type": "code",
   "execution_count": 6,
   "metadata": {},
   "outputs": [
    {
     "name": "stderr",
     "output_type": "stream",
     "text": [
      "C:\\Users\\RitZ\\Anaconda3\\lib\\site-packages\\ipykernel_launcher.py:2: RuntimeWarning: invalid value encountered in longlong_scalars\n",
      "  \n"
     ]
    },
    {
     "data": {
      "text/plain": [
       "nan"
      ]
     },
     "execution_count": 6,
     "metadata": {},
     "output_type": "execute_result"
    }
   ],
   "source": [
    "##Precision\n",
    "Precision= TP/(TP+FP)\n",
    "Precision\n"
   ]
  },
  {
   "cell_type": "code",
   "execution_count": 7,
   "metadata": {},
   "outputs": [
    {
     "data": {
      "text/plain": [
       "0.0"
      ]
     },
     "execution_count": 7,
     "metadata": {},
     "output_type": "execute_result"
    }
   ],
   "source": [
    "##Calculate False Positive_rate\n",
    "False_Positive_rate= FP/(FP+TN)\n",
    "False_Positive_rate\n"
   ]
  },
  {
   "cell_type": "code",
   "execution_count": 8,
   "metadata": {},
   "outputs": [],
   "source": [
    "y_pred_class=y_pred_class>0.3"
   ]
  },
  {
   "cell_type": "code",
   "execution_count": 9,
   "metadata": {},
   "outputs": [
    {
     "data": {
      "text/plain": [
       "array([[91,  0],\n",
       "       [17,  0]], dtype=int64)"
      ]
     },
     "execution_count": 9,
     "metadata": {},
     "output_type": "execute_result"
    }
   ],
   "source": [
    "from sklearn.metrics import confusion_matrix\n",
    "cm=confusion_matrix(y_test,y_pred_class)\n",
    "cm\n"
   ]
  },
  {
   "cell_type": "code",
   "execution_count": 10,
   "metadata": {},
   "outputs": [],
   "source": [
    "##True Negative\n",
    "TN=cm[0,0]\n",
    "##False Negative\n",
    "FN=cm[1,0]\n",
    "##False Positives\n",
    "FP=cm[0,1]\n",
    "##True Positives\n",
    "TP=cm[1,1]\n"
   ]
  },
  {
   "cell_type": "code",
   "execution_count": 11,
   "metadata": {},
   "outputs": [
    {
     "data": {
      "text/plain": [
       "0.0"
      ]
     },
     "execution_count": 11,
     "metadata": {},
     "output_type": "execute_result"
    }
   ],
   "source": [
    "## Calculating Sensitivity\n",
    "Sensitivity=TP/(TP+FN)\n",
    "Sensitivity\n"
   ]
  },
  {
   "cell_type": "code",
   "execution_count": 12,
   "metadata": {},
   "outputs": [
    {
     "data": {
      "text/plain": [
       "1.0"
      ]
     },
     "execution_count": 12,
     "metadata": {},
     "output_type": "execute_result"
    }
   ],
   "source": [
    "##Calculating Specificity\n",
    "Specificity=TN/(TN+FP)\n",
    "Specificity\n"
   ]
  },
  {
   "cell_type": "code",
   "execution_count": 13,
   "metadata": {},
   "outputs": [
    {
     "data": {
      "image/png": "[encoded data removed]",
      "text/plain": [
       "<Figure size 432x288 with 1 Axes>"
      ]
     },
     "metadata": {
      "needs_background": "light"
     },
     "output_type": "display_data"
    }
   ],
   "source": [
    "import matplotlib.pyplot as plt\n",
    "%matplotlib inline\n",
    "#histogram of class distribution\n",
    "plt.hist(y_pred_prob)\n",
    "plt.title(\"Histogram of Predicted Probabilities\")\n",
    "plt.xlabel(\"Predicted Probabilities of patient readmission\")\n",
    "plt.ylabel(\"Frequency\")\n",
    "plt.show()\n"
   ]
  },
  {
   "cell_type": "code",
   "execution_count": 14,
   "metadata": {},
   "outputs": [],
   "source": [
    "from sklearn.metrics import roc_curve\n",
    "fpr,tpr,thresholds=roc_curve(y_test,y_pred_prob)\n"
   ]
  },
  {
   "cell_type": "code",
   "execution_count": 15,
   "metadata": {},
   "outputs": [
    {
     "data": {
      "image/png": "[encoded data removed]",
      "text/plain": [
       "<Figure size 432x288 with 1 Axes>"
      ]
     },
     "metadata": {
      "needs_background": "light"
     },
     "output_type": "display_data"
    }
   ],
   "source": [
    "import matplotlib.pyplot as plt\n",
    "plt.plot(fpr,tpr)\n",
    "plt.title(\"ROC Curve for Patient Readmission\")\n",
    "plt.xlabel(\"False Positive rate (1-Specificity)\")\n",
    "plt.ylabel(\"True Positive rate (Sensitivity)\")\n",
    "plt.grid(True)\n",
    "plt.show()\n"
   ]
  },
  {
   "cell_type": "code",
   "execution_count": 16,
   "metadata": {},
   "outputs": [],
   "source": [
    "def optimum_threshold(my_threshold):\n",
    "    print (\"Sensitivity:\",tpr[thresholds>my_threshold][-1])\n",
    "    print (\"Specificity:\",1-fpr[thresholds>my_threshold][-1])\n"
   ]
  },
  {
   "cell_type": "code",
   "execution_count": 17,
   "metadata": {},
   "outputs": [
    {
     "name": "stdout",
     "output_type": "stream",
     "text": [
      "Sensitivity: 0.5294117647058824\n",
      "Specificity: 0.8791208791208791\n"
     ]
    }
   ],
   "source": [
    "optimum_threshold(0.3)"
   ]
  },
  {
   "cell_type": "code",
   "execution_count": 18,
   "metadata": {},
   "outputs": [
    {
     "name": "stdout",
     "output_type": "stream",
     "text": [
      "Sensitivity: 0.0\n",
      "Specificity: 1.0\n"
     ]
    }
   ],
   "source": [
    "optimum_threshold(0.5)"
   ]
  },
  {
   "cell_type": "code",
   "execution_count": 19,
   "metadata": {},
   "outputs": [
    {
     "name": "stdout",
     "output_type": "stream",
     "text": [
      "Sensitivity: 1.0\n",
      "Specificity: 0.3516483516483516\n"
     ]
    }
   ],
   "source": [
    "optimum_threshold(0.03)"
   ]
  },
  {
   "cell_type": "code",
   "execution_count": 20,
   "metadata": {},
   "outputs": [
    {
     "name": "stdout",
     "output_type": "stream",
     "text": [
      "Sensitivity: 0.7647058823529411\n",
      "Specificity: 0.5164835164835164\n"
     ]
    }
   ],
   "source": [
    "optimum_threshold(0.1)"
   ]
  },
  {
   "cell_type": "code",
   "execution_count": 21,
   "metadata": {},
   "outputs": [
    {
     "data": {
      "text/plain": [
       "0.7317388493859083"
      ]
     },
     "execution_count": 21,
     "metadata": {},
     "output_type": "execute_result"
    }
   ],
   "source": [
    "from sklearn.metrics import roc_auc_score\n",
    "roc_auc_score(y_test,y_pred_prob)\n"
   ]
  }
 ],
 "metadata": {
  "kernelspec": {
   "display_name": "Python 3",
   "language": "python",
   "name": "python3"
  },
  "language_info": {
   "codemirror_mode": {
    "name": "ipython",
    "version": 3
   },
   "file_extension": ".py",
   "mimetype": "text/x-python",
   "name": "python",
   "nbconvert_exporter": "python",
   "pygments_lexer": "ipython3",
   "version": "3.6.7"
  }
 },
 "nbformat": 4,
 "nbformat_minor": 2
}
