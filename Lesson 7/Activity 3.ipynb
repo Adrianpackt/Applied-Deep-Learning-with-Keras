{
 "cells": [
  {
   "cell_type": "code",
   "execution_count": 1,
   "metadata": {},
   "outputs": [
    {
     "name": "stderr",
     "output_type": "stream",
     "text": [
      "Using TensorFlow backend.\n"
     ]
    }
   ],
   "source": [
    "# This cell is part of Activity 1\n",
    "# Import the Libraries\n",
    "from keras.models import Sequential\n",
    "from keras.layers import Conv2D\n",
    "from keras.layers import MaxPool2D\n",
    "from keras.layers import Flatten\n",
    "from keras.layers import Dense\n",
    "\n",
    "# Initialising the CNN\n",
    "classifier = Sequential()\n",
    "\n",
    "# Step 1 - Convolution\n",
    "classifier.add(Conv2D(32, (3, 3), input_shape = (64, 64, 3), activation = 'relu'))\n",
    "\n",
    "# Step 2 - Pooling\n",
    "classifier.add(MaxPool2D(pool_size = (2, 2)))\n",
    "\n",
    "# Step 3 - Flattening\n",
    "classifier.add(Flatten())\n",
    "\n"
   ]
  },
  {
   "cell_type": "code",
   "execution_count": null,
   "metadata": {},
   "outputs": [],
   "source": [
    "# This cell is part of activity 2\n",
    "# Step 4 - Full ANN connection\n",
    "classifier.add(Dense(units = 128, activation = 'relu'))\n",
    "classifier.add(Dense(units = 1, activation = 'sigmoid'))\n",
    "\n",
    "# Compiling the CNN\n",
    "classifier.compile(optimizer = 'adam', loss = 'binary_crossentropy', metrics = ['accuracy'])"
   ]
  },
  {
   "cell_type": "code",
   "execution_count": null,
   "metadata": {},
   "outputs": [
    {
     "name": "stdout",
     "output_type": "stream",
     "text": [
      "Found 800 images belonging to 2 classes.\n",
      "Found 100 images belonging to 2 classes.\n",
      "Epoch 1/1000\n",
      "400/400 [==============================] - 92s 231ms/step - loss: 0.5842 - acc: 0.6930 - val_loss: 0.6822 - val_acc: 0.6788\n",
      "Epoch 2/1000\n",
      "400/400 [==============================] - 96s 240ms/step - loss: 0.3934 - acc: 0.8238 - val_loss: 0.7694 - val_acc: 0.7104\n",
      "Epoch 3/1000\n",
      "400/400 [==============================] - 91s 227ms/step - loss: 0.2810 - acc: 0.8838 - val_loss: 1.0388 - val_acc: 0.7136\n",
      "Epoch 4/1000\n",
      "400/400 [==============================] - 89s 221ms/step - loss: 0.2102 - acc: 0.9159 - val_loss: 1.2934 - val_acc: 0.6367\n",
      "Epoch 5/1000\n",
      "400/400 [==============================] - 101s 252ms/step - loss: 0.1447 - acc: 0.9455 - val_loss: 1.3774 - val_acc: 0.6250\n",
      "Epoch 6/1000\n",
      "400/400 [==============================] - 103s 257ms/step - loss: 0.0993 - acc: 0.9645 - val_loss: 1.3520 - val_acc: 0.6804\n",
      "Epoch 7/1000\n",
      "400/400 [==============================] - 97s 244ms/step - loss: 0.0760 - acc: 0.9743 - val_loss: 1.4849 - val_acc: 0.6820\n",
      "Epoch 8/1000\n",
      "400/400 [==============================] - 107s 268ms/step - loss: 0.0572 - acc: 0.9816 - val_loss: 1.7562 - val_acc: 0.6481\n",
      "Epoch 9/1000\n",
      "400/400 [==============================] - 99s 247ms/step - loss: 0.0411 - acc: 0.9875 - val_loss: 1.9685 - val_acc: 0.6859\n",
      "Epoch 10/1000\n",
      "400/400 [==============================] - 100s 250ms/step - loss: 0.0339 - acc: 0.9893 - val_loss: 2.2332 - val_acc: 0.6230\n",
      "Epoch 11/1000\n",
      "400/400 [==============================] - 92s 229ms/step - loss: 0.0366 - acc: 0.9886 - val_loss: 2.0469 - val_acc: 0.6590\n",
      "Epoch 12/1000\n",
      "400/400 [==============================] - 94s 236ms/step - loss: 0.0316 - acc: 0.9906 - val_loss: 2.0795 - val_acc: 0.6408\n",
      "Epoch 13/1000\n",
      "400/400 [==============================] - 91s 228ms/step - loss: 0.0238 - acc: 0.9933 - val_loss: 2.4426 - val_acc: 0.6290\n",
      "Epoch 14/1000\n",
      "400/400 [==============================] - 93s 232ms/step - loss: 0.0188 - acc: 0.9947 - val_loss: 2.3318 - val_acc: 0.6602\n",
      "Epoch 15/1000\n",
      "400/400 [==============================] - 93s 233ms/step - loss: 0.0216 - acc: 0.9937 - val_loss: 2.3929 - val_acc: 0.6116\n",
      "Epoch 16/1000\n",
      "274/400 [===================>..........] - ETA: 29s - loss: 0.0273 - acc: 0.9917"
     ]
    }
   ],
   "source": [
    "# This cell is part of Activity 3\n",
    "from keras.preprocessing.image import ImageDataGenerator\n",
    "\n",
    "train_datagen = ImageDataGenerator(rescale = 1./255,\n",
    "                                   shear_range = 0.2,\n",
    "                                   zoom_range = 0.2,\n",
    "                                   horizontal_flip = True)\n",
    "\n",
    "\n",
    "\n",
    "\n",
    "\n",
    "test_datagen = ImageDataGenerator(rescale = 1./255)\n",
    "\n",
    "training_set = train_datagen.flow_from_directory('dataset/training_set',\n",
    "                                                 target_size = (64, 64),\n",
    "                                                 batch_size = 32,\n",
    "                                                 class_mode = 'binary')\n",
    "\n",
    "test_set = test_datagen.flow_from_directory('dataset/test_set',\n",
    "                                            target_size = (64, 64),\n",
    "                                            batch_size = 32,\n",
    "                                            class_mode = 'binary')\n",
    "\n",
    "classifier.fit_generator(training_set,\n",
    "                         steps_per_epoch = 400,\n",
    "                         epochs = 1000,\n",
    "                         validation_data = test_set,\n",
    "                         validation_steps = 50)"
   ]
  }
 ],
 "metadata": {
  "kernelspec": {
   "display_name": "Python 3",
   "language": "python",
   "name": "python3"
  },
  "language_info": {
   "codemirror_mode": {
    "name": "ipython",
    "version": 3
   },
   "file_extension": ".py",
   "mimetype": "text/x-python",
   "name": "python",
   "nbconvert_exporter": "python",
   "pygments_lexer": "ipython3",
   "version": "3.6.7"
  }
 },
 "nbformat": 4,
 "nbformat_minor": 2
}
