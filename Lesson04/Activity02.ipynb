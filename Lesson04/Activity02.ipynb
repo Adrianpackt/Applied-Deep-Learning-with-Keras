{
 "cells": [
  {
   "cell_type": "code",
   "execution_count": 1,
   "metadata": {},
   "outputs": [
    {
     "name": "stderr",
     "output_type": "stream",
     "text": [
      "Using TensorFlow backend.\n"
     ]
    }
   ],
   "source": [
    "# import the required packages\n",
    "from keras.models import Sequential\n",
    "from keras.layers import Dense\n",
    "from keras.wrappers.scikit_learn import KerasClassifier\n",
    "from sklearn.model_selection import StratifiedKFold\n",
    "from sklearn.model_selection import cross_val_score\n",
    "from sklearn.preprocessing import StandardScaler\n",
    "from sklearn.pipeline import make_pipeline\n",
    "import numpy"
   ]
  },
  {
   "cell_type": "code",
   "execution_count": 2,
   "metadata": {},
   "outputs": [],
   "source": [
    "# Load the dataset\n",
    "from sklearn.datasets import load_breast_cancer\n",
    "data = load_breast_cancer()\n",
    "# store data examples in X and their corresponding labels in y\n",
    "X =  data['data']\n",
    "y = data['target']"
   ]
  },
  {
   "cell_type": "code",
   "execution_count": 3,
   "metadata": {},
   "outputs": [],
   "source": [
    "# convert y label from ['malignant', 'benign'] to [1, 0]\n",
    "from sklearn.preprocessing import LabelEncoder\n",
    "labelencoder = LabelEncoder()\n",
    "y = labelencoder.fit_transform(y)"
   ]
  },
  {
   "cell_type": "code",
   "execution_count": 4,
   "metadata": {},
   "outputs": [],
   "source": [
    "# Create the function that returns the keras model 1\n",
    "def build_model_1(activation='relu', optimizer='adam'):\n",
    "    # create model 1\n",
    "    model = Sequential()\n",
    "    model.add(Dense(16, input_dim=30, activation=activation))\n",
    "    model.add(Dense(8, activation=activation))\n",
    "    model.add(Dense(4, activation=activation))\n",
    "    model.add(Dense(1, activation='sigmoid'))\n",
    "    # Compile model\n",
    "    model.compile(loss='binary_crossentropy', optimizer=optimizer, metrics=['accuracy'])\n",
    "    return model\n",
    "\n",
    "# Create the function that returns the keras model 2\n",
    "def build_model_2(activation='relu', optimizer='adam'):\n",
    "    # create model 2\n",
    "    model = Sequential()\n",
    "    model.add(Dense(16, input_dim=30, activation=activation))\n",
    "    model.add(Dense(8, activation=activation))\n",
    "    model.add(Dense(1, activation='sigmoid'))\n",
    "    # Compile model\n",
    "    model.compile(loss='binary_crossentropy', optimizer=optimizer, metrics=['accuracy'])\n",
    "    return model\n",
    "\n",
    "# Create the function that returns the keras model 3\n",
    "def build_model_3(activation='relu', optimizer='adam'):\n",
    "    # create model 3\n",
    "    model = Sequential()\n",
    "    model.add(Dense(8, input_dim=30, activation=activation))\n",
    "    model.add(Dense(1, activation='sigmoid'))\n",
    "    # Compile model\n",
    "    model.compile(loss='binary_crossentropy', optimizer=optimizer, metrics=['accuracy'])\n",
    "    return model"
   ]
  },
  {
   "cell_type": "code",
   "execution_count": 5,
   "metadata": {},
   "outputs": [],
   "source": [
    "# define a seed for random number generator so the result will be reproducible\n",
    "seed = 1\n",
    "numpy.random.seed(seed)\n",
    "# determine the number of folds for k-fold cross validation\n",
    "n_folds = 5\n",
    "# define the list to store cross validation scores\n",
    "results =[]\n",
    "# define the possible options for the model\n",
    "models = [build_model_1, build_model_2, build_model_3]\n",
    "# loop over models\n",
    "for i in range(len(models)):\n",
    "    # build the Scikit-Learn interface for the keras model\n",
    "    classifier = KerasClassifier(build_fn=models[i], epochs=100, batch_size=5, verbose=0)\n",
    "    # build the pipeline of transformations so for each fold trainind set will be scaled \n",
    "    # and test set will be scaled accordingly.\n",
    "    model = make_pipeline(StandardScaler(), classifier)\n",
    "    # define the cross validation iterator\n",
    "    kfold = StratifiedKFold(n_splits=n_folds, shuffle=True, random_state=seed)\n",
    "    # perform the k-fold cross validation. \n",
    "    # store the scores in result\n",
    "    result = cross_val_score(model, X, y, cv=kfold)\n",
    "    # add the scores to the results list \n",
    "    results.append(result)"
   ]
  },
  {
   "cell_type": "code",
   "execution_count": 6,
   "metadata": {},
   "outputs": [
    {
     "name": "stdout",
     "output_type": "stream",
     "text": [
      "Model  1  test accuracy =  0.9752828025505973\n",
      "Model  2  test accuracy =  0.9717429797527377\n",
      "Model  3  test accuracy =  0.9735436722194748\n"
     ]
    }
   ],
   "source": [
    "# Print cross validation score for each model\n",
    "for i in range(len(models)):\n",
    "    print(\"Model \", i+1,\" test accuracy = \", results[i].mean())"
   ]
  },
  {
   "cell_type": "code",
   "execution_count": 7,
   "metadata": {},
   "outputs": [],
   "source": [
    "# define a seed for random number generator so the result will be reproducible\n",
    "numpy.random.seed(seed)\n",
    "# determine the number of folds for k-fold cross validation\n",
    "n_folds = 3\n",
    "# define the list to store cross validation scores\n",
    "results =[]\n",
    "# define possible options for epochs and batch_size\n",
    "epochs = [100, 150]\n",
    "batches = [5, 10]\n",
    "# loop over all possible pairs of epochs, batch_size\n",
    "for i in range(len(epochs)):\n",
    "    for j in range(len(batches)):\n",
    "        # build the Scikit-Learn interface for the keras model\n",
    "        classifier = KerasClassifier(build_fn=build_model_1, epochs=epochs[i], batch_size=batches[j], verbose=0)\n",
    "        # build the pipeline of transformations so for each fold trainind set will be scaled \n",
    "        # and test set will be scaled accordingly.\n",
    "        model = make_pipeline(StandardScaler(), classifier)\n",
    "        # define the cross validation iterator\n",
    "        kfold = StratifiedKFold(n_splits=n_folds, shuffle=True, random_state=seed)\n",
    "        # perform the k-fold cross validation. \n",
    "        # store the scores in result\n",
    "        result = cross_val_score(model, X, y, cv=kfold)\n",
    "        # add the scores to the results list \n",
    "        results.append(result)"
   ]
  },
  {
   "cell_type": "code",
   "execution_count": 8,
   "metadata": {},
   "outputs": [
    {
     "name": "stdout",
     "output_type": "stream",
     "text": [
      "batch_size =  5 , epochs =  100 , Test accuracy =  0.9683746421894832\n",
      "batch_size =  10 , epochs =  100 , Test accuracy =  0.9718926885240227\n",
      "batch_size =  5 , epochs =  150 , Test accuracy =  0.9595934304229\n",
      "batch_size =  10 , epochs =  150 , Test accuracy =  0.9701290201932776\n"
     ]
    }
   ],
   "source": [
    "# Print cross validation score for each possible pair of epochs, batch_size\n",
    "c = 0\n",
    "for i in range(len(epochs)):\n",
    "    for j in range(len(batches)):\n",
    "        print(\"batch_size = \", batches[j],\", epochs = \", epochs[i], \", Test accuracy = \", results[c].mean())\n",
    "        c += 1"
   ]
  },
  {
   "cell_type": "code",
   "execution_count": 11,
   "metadata": {},
   "outputs": [],
   "source": [
    "# define a seed for random number generator so the result will be reproducible\n",
    "numpy.random.seed(seed)\n",
    "# determine the number of folds for k-fold cross validation\n",
    "n_folds = 3\n",
    "# define the list to store cross validation scores\n",
    "results =[]\n",
    "# define possible options for optimizer and activation\n",
    "optimizers = ['rmsprop', 'adam']\n",
    "activations = ['relu', 'tanh']\n",
    "# loop over all possible pairs of optimizer, activation\n",
    "for i in range(len(optimizers)):\n",
    "    for j in range(len(activations)):\n",
    "        optimizer = optimizers[i]\n",
    "        activation = activations[j]\n",
    "        # build the Scikit-Learn interface for the keras model\n",
    "        classifier = KerasClassifier(build_fn=build_model_1, epochs=100, batch_size=10, verbose=0)\n",
    "        # build the pipeline of transformations so for each fold trainind set will be scaled \n",
    "        # and test set will be scaled accordingly.\n",
    "        model = make_pipeline(StandardScaler(), classifier)\n",
    "        # define the cross validation iterator\n",
    "        kfold = StratifiedKFold(n_splits=n_folds, shuffle=True, random_state=seed)\n",
    "        # perform the k-fold cross validation. \n",
    "        # store the scores in result\n",
    "        result = cross_val_score(model, X, y, cv=kfold)\n",
    "        # add the scores to the results list \n",
    "        results.append(result)"
   ]
  },
  {
   "cell_type": "code",
   "execution_count": 12,
   "metadata": {},
   "outputs": [
    {
     "name": "stdout",
     "output_type": "stream",
     "text": [
      "activation =  relu , optimizer =  rmsprop , Test accuracy =  0.9683653502967556\n",
      "activation =  tanh , optimizer =  rmsprop , Test accuracy =  0.9718926885240227\n",
      "activation =  relu , optimizer =  adam , Test accuracy =  0.9595841364387813\n",
      "activation =  tanh , optimizer =  adam , Test accuracy =  0.9648658610492388\n"
     ]
    }
   ],
   "source": [
    "# Print cross validation score for each possible pair of optimizer, activation\n",
    "c = 0\n",
    "for i in range(len(optimizers)):\n",
    "    for j in range(len(activations)):\n",
    "        print(\"activation = \", activations[j],\", optimizer = \", optimizers[i], \", Test accuracy = \", results[c].mean())\n",
    "        c += 1"
   ]
  }
 ],
 "metadata": {
  "kernelspec": {
   "display_name": "Python 3",
   "language": "python",
   "name": "python3"
  },
  "language_info": {
   "codemirror_mode": {
    "name": "ipython",
    "version": 3
   },
   "file_extension": ".py",
   "mimetype": "text/x-python",
   "name": "python",
   "nbconvert_exporter": "python",
   "pygments_lexer": "ipython3",
   "version": "3.5.5"
  }
 },
 "nbformat": 4,
 "nbformat_minor": 2
}
